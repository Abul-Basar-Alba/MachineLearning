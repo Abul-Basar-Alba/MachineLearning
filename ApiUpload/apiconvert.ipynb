{
 "cells": [
  {
   "cell_type": "code",
   "execution_count": 1,
   "id": "e1a64e14",
   "metadata": {},
   "outputs": [],
   "source": [
    "import pandas as pd\n",
    "import numpy as np\n",
    "import matplotlib.pyplot as plt\n",
    "import seaborn as sns"
   ]
  },
  {
   "cell_type": "code",
   "execution_count": 3,
   "id": "c6489b9e",
   "metadata": {},
   "outputs": [
    {
     "data": {
      "text/html": [
       "<div>\n",
       "<style scoped>\n",
       "    .dataframe tbody tr th:only-of-type {\n",
       "        vertical-align: middle;\n",
       "    }\n",
       "\n",
       "    .dataframe tbody tr th {\n",
       "        vertical-align: top;\n",
       "    }\n",
       "\n",
       "    .dataframe thead th {\n",
       "        text-align: right;\n",
       "    }\n",
       "</style>\n",
       "<table border=\"1\" class=\"dataframe\">\n",
       "  <thead>\n",
       "    <tr style=\"text-align: right;\">\n",
       "      <th></th>\n",
       "      <th>school;sex;age;address;famsize;Pstatus;Medu;Fedu;Mjob;Fjob;reason;guardian;traveltime;studytime;failures;schoolsup;famsup;paid;activities;nursery;higher;internet;romantic;famrel;freetime;goout;Dalc;Walc;health;absences;G1;G2;G3</th>\n",
       "    </tr>\n",
       "  </thead>\n",
       "  <tbody>\n",
       "    <tr>\n",
       "      <th>0</th>\n",
       "      <td>GP;\"F\";18;\"U\";\"GT3\";\"A\";4;4;\"at_home\";\"teacher...</td>\n",
       "    </tr>\n",
       "    <tr>\n",
       "      <th>1</th>\n",
       "      <td>GP;\"F\";17;\"U\";\"GT3\";\"T\";1;1;\"at_home\";\"other\";...</td>\n",
       "    </tr>\n",
       "    <tr>\n",
       "      <th>2</th>\n",
       "      <td>GP;\"F\";15;\"U\";\"LE3\";\"T\";1;1;\"at_home\";\"other\";...</td>\n",
       "    </tr>\n",
       "    <tr>\n",
       "      <th>3</th>\n",
       "      <td>GP;\"F\";15;\"U\";\"GT3\";\"T\";4;2;\"health\";\"services...</td>\n",
       "    </tr>\n",
       "    <tr>\n",
       "      <th>4</th>\n",
       "      <td>GP;\"F\";16;\"U\";\"GT3\";\"T\";3;3;\"other\";\"other\";\"h...</td>\n",
       "    </tr>\n",
       "  </tbody>\n",
       "</table>\n",
       "</div>"
      ],
      "text/plain": [
       "  school;sex;age;address;famsize;Pstatus;Medu;Fedu;Mjob;Fjob;reason;guardian;traveltime;studytime;failures;schoolsup;famsup;paid;activities;nursery;higher;internet;romantic;famrel;freetime;goout;Dalc;Walc;health;absences;G1;G2;G3\n",
       "0  GP;\"F\";18;\"U\";\"GT3\";\"A\";4;4;\"at_home\";\"teacher...                                                                                                                                                                                 \n",
       "1  GP;\"F\";17;\"U\";\"GT3\";\"T\";1;1;\"at_home\";\"other\";...                                                                                                                                                                                 \n",
       "2  GP;\"F\";15;\"U\";\"LE3\";\"T\";1;1;\"at_home\";\"other\";...                                                                                                                                                                                 \n",
       "3  GP;\"F\";15;\"U\";\"GT3\";\"T\";4;2;\"health\";\"services...                                                                                                                                                                                 \n",
       "4  GP;\"F\";16;\"U\";\"GT3\";\"T\";3;3;\"other\";\"other\";\"h...                                                                                                                                                                                 "
      ]
     },
     "execution_count": 3,
     "metadata": {},
     "output_type": "execute_result"
    }
   ],
   "source": [
    "data=pd.read_csv('student-mat.csv')\n",
    "data.head()"
   ]
  },
  {
   "cell_type": "code",
   "execution_count": null,
   "id": "b3888010",
   "metadata": {},
   "outputs": [],
   "source": [
    "# Check data shape and basic information\n",
    "print(\"Dataset Shape:\", data.shape)\n",
    "print(\"\\nDataset Info:\")\n",
    "data.info()"
   ]
  },
  {
   "cell_type": "code",
   "execution_count": null,
   "id": "dd447416",
   "metadata": {},
   "outputs": [],
   "source": [
    "# Display data summary statistics\n",
    "print(\"Dataset Description:\")\n",
    "print(data.describe())\n",
    "print(\"\\n\" + \"=\"*50)\n",
    "print(\"Data Types:\")\n",
    "print(data.dtypes)"
   ]
  },
  {
   "cell_type": "code",
   "execution_count": null,
   "id": "25005813",
   "metadata": {},
   "outputs": [],
   "source": [
    "# Check for missing values and unique values\n",
    "print(\"Missing Values:\")\n",
    "print(data.isnull().sum())\n",
    "print(\"\\n\" + \"=\"*50)\n",
    "print(\"Unique values in each column:\")\n",
    "for col in data.columns:\n",
    "    print(f\"{col}: {data[col].nunique()} unique values\")\n",
    "print(\"\\n\" + \"=\"*50)\n",
    "print(\"First 5 rows and last 5 rows:\")\n",
    "print(\"Head:\")\n",
    "print(data.head())\n",
    "print(\"\\nTail:\")\n",
    "print(data.tail())"
   ]
  },
  {
   "cell_type": "markdown",
   "id": "7cfb67a3",
   "metadata": {},
   "source": [
    "# Data Formatting and Cleaning\n",
    "\n",
    "Now we'll format and clean the data for better analysis:"
   ]
  },
  {
   "cell_type": "code",
   "execution_count": null,
   "id": "2ba44940",
   "metadata": {},
   "outputs": [],
   "source": [
    "# Format column names (remove spaces, standardize case)\n",
    "print(\"Original column names:\")\n",
    "print(data.columns.tolist())\n",
    "\n",
    "# Clean column names - remove extra spaces and standardize\n",
    "data.columns = data.columns.str.strip()  # Remove leading/trailing spaces\n",
    "data.columns = data.columns.str.replace(' ', '_')  # Replace spaces with underscores\n",
    "data.columns = data.columns.str.lower()  # Convert to lowercase\n",
    "\n",
    "print(\"\\nFormatted column names:\")\n",
    "print(data.columns.tolist())"
   ]
  },
  {
   "cell_type": "code",
   "execution_count": null,
   "id": "4c9ab821",
   "metadata": {},
   "outputs": [],
   "source": [
    "# Format categorical variables\n",
    "# Convert categorical columns to proper categories\n",
    "categorical_cols = data.select_dtypes(include=['object']).columns\n",
    "print(\"Categorical columns:\", categorical_cols.tolist())\n",
    "\n",
    "# Display unique values for categorical columns (first few for brevity)\n",
    "for col in categorical_cols[:5]:  # Show first 5 categorical columns\n",
    "    print(f\"\\n{col} unique values:\")\n",
    "    print(data[col].unique())"
   ]
  },
  {
   "cell_type": "code",
   "execution_count": null,
   "id": "27d63b02",
   "metadata": {},
   "outputs": [],
   "source": [
    "# Format numerical variables\n",
    "numerical_cols = data.select_dtypes(include=['int64', 'float64']).columns\n",
    "print(\"Numerical columns:\", numerical_cols.tolist())\n",
    "\n",
    "# Check for outliers using IQR method for numerical columns\n",
    "print(\"\\nOutlier Analysis (using IQR method):\")\n",
    "for col in numerical_cols[:5]:  # Show first 5 numerical columns\n",
    "    Q1 = data[col].quantile(0.25)\n",
    "    Q3 = data[col].quantile(0.75)\n",
    "    IQR = Q3 - Q1\n",
    "    lower_bound = Q1 - 1.5 * IQR\n",
    "    upper_bound = Q3 + 1.5 * IQR\n",
    "    outliers = data[(data[col] < lower_bound) | (data[col] > upper_bound)]\n",
    "    print(f\"{col}: {len(outliers)} outliers detected\")"
   ]
  },
  {
   "cell_type": "code",
   "execution_count": null,
   "id": "dc6c9855",
   "metadata": {},
   "outputs": [],
   "source": [
    "# Data visualization for better understanding\n",
    "plt.figure(figsize=(15, 10))\n",
    "\n",
    "# Plot histogram for numerical columns\n",
    "numerical_cols = data.select_dtypes(include=['int64', 'float64']).columns\n",
    "n_cols = len(numerical_cols)\n",
    "n_rows = (n_cols + 3) // 4  # 4 columns per row\n",
    "\n",
    "for i, col in enumerate(numerical_cols[:8]):  # Show first 8 numerical columns\n",
    "    plt.subplot(n_rows, 4, i+1)\n",
    "    plt.hist(data[col], bins=20, alpha=0.7)\n",
    "    plt.title(f'Distribution of {col}')\n",
    "    plt.xlabel(col)\n",
    "    plt.ylabel('Frequency')\n",
    "\n",
    "plt.tight_layout()\n",
    "plt.show()"
   ]
  }
 ],
 "metadata": {
  "kernelspec": {
   "display_name": "base",
   "language": "python",
   "name": "python3"
  },
  "language_info": {
   "codemirror_mode": {
    "name": "ipython",
    "version": 3
   },
   "file_extension": ".py",
   "mimetype": "text/x-python",
   "name": "python",
   "nbconvert_exporter": "python",
   "pygments_lexer": "ipython3",
   "version": "3.13.5"
  }
 },
 "nbformat": 4,
 "nbformat_minor": 5
}
