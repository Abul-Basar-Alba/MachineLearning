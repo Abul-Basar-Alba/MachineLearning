{
 "cells": [
  {
   "cell_type": "markdown",
   "id": "f5fcb152",
   "metadata": {},
   "source": [
    "# Example-01\n",
    "## x+y+z=6\n",
    "## 2y+5z=−4\n",
    "## 2x+5y−z=27"
   ]
  },
  {
   "cell_type": "code",
   "execution_count": 1,
   "id": "bfbbc19b",
   "metadata": {},
   "outputs": [
    {
     "name": "stdout",
     "output_type": "stream",
     "text": [
      "Problem 1 Solution: [5.0, 3.0, -2.0]\n"
     ]
    }
   ],
   "source": [
    "def gauss_elimination(a, b):\n",
    "    n = len(b)\n",
    "    for i in range(n):\n",
    "        a[i].append(b[i])\n",
    "\n",
    "    for i in range(n):\n",
    "        if a[i][i] == 0:\n",
    "            for j in range(i + 1, n):\n",
    "                if a[j][i] != 0:\n",
    "                    a[i], a[j] = a[j], a[i]\n",
    "                    break\n",
    "\n",
    "        for j in range(i + 1, n):\n",
    "            ratio = a[j][i] / a[i][i]\n",
    "            for k in range(n + 1):\n",
    "                a[j][k] -= ratio * a[i][k]\n",
    "\n",
    "    x = [0 for _ in range(n)]\n",
    "    for i in range(n - 1, -1, -1):\n",
    "        x[i] = a[i][n]\n",
    "        for j in range(i + 1, n):\n",
    "            x[i] -= a[i][j] * x[j]\n",
    "        x[i] /= a[i][i]\n",
    "\n",
    "    return x\n",
    "\n",
    "# Problem 1\n",
    "a1 = [\n",
    "    [1, 1, 1],\n",
    "    [0, 2, 5],\n",
    "    [2, 5, -1]\n",
    "]\n",
    "b1 = [6, -4, 27]\n",
    "\n",
    "print(\"Problem 1 Solution:\", gauss_elimination(a1, b1))\n"
   ]
  },
  {
   "cell_type": "markdown",
   "id": "9ba3c40a",
   "metadata": {},
   "source": [
    "# Example-02 \n",
    "## 3x+2y−z=1\n",
    "## 2x−2y+4z=−2\n",
    "## −1x+0.5y−z=0"
   ]
  },
  {
   "cell_type": "code",
   "execution_count": 2,
   "id": "0290e3d5",
   "metadata": {},
   "outputs": [
    {
     "name": "stdout",
     "output_type": "stream",
     "text": [
      "Problem 2 Solution: [1.0, -1.9999999999999996, -1.9999999999999993]\n"
     ]
    }
   ],
   "source": [
    "a2 = [\n",
    "    [3, 2, -1],\n",
    "    [2, -2, 4],\n",
    "    [-1, 0.5, -1]\n",
    "]\n",
    "b2 = [1, -2, 0]\n",
    "\n",
    "print(\"Problem 2 Solution:\", gauss_elimination(a2, b2))\n"
   ]
  },
  {
   "cell_type": "code",
   "execution_count": 5,
   "id": "16cfd80b",
   "metadata": {},
   "outputs": [
    {
     "name": "stdout",
     "output_type": "stream",
     "text": [
      "Problem 1 Solution: [5.0, 3.0, -2.0]\n",
      "Problem 2 Solution: [1.0, -2.0, -2.0]\n",
      "Problem 3 Error: No unique solution (zero pivot at row 2)\n",
      "Problem 4 Solution: [1.0, 1.0]\n",
      "Problem 5 Solution: [1.5, 0.0, 1.0]\n"
     ]
    }
   ],
   "source": [
    "def gauss_elimination(a, b):\n",
    "    n = len(b)\n",
    "    for i in range(n):\n",
    "        a[i].append(b[i])\n",
    "\n",
    "    for i in range(n):\n",
    "        # Check for zero pivot and try to swap\n",
    "        if a[i][i] == 0:\n",
    "            found = False\n",
    "            for j in range(i + 1, n):\n",
    "                if a[j][i] != 0:\n",
    "                    a[i], a[j] = a[j], a[i]\n",
    "                    found = True\n",
    "                    break\n",
    "            if not found:\n",
    "                raise ValueError(f\"No unique solution (zero pivot at row {i})\")\n",
    "\n",
    "        for j in range(i + 1, n):\n",
    "            ratio = a[j][i] / a[i][i]\n",
    "            for k in range(n + 1):\n",
    "                a[j][k] -= ratio * a[i][k]\n",
    "\n",
    "    x = [0 for _ in range(n)]\n",
    "    for i in range(n - 1, -1, -1):\n",
    "        if a[i][i] == 0:\n",
    "            raise ValueError(\"No unique solution during back substitution\")\n",
    "        x[i] = a[i][n]\n",
    "        for j in range(i + 1, n):\n",
    "            x[i] -= a[i][j] * x[j]\n",
    "        x[i] /= a[i][i]\n",
    "\n",
    "    return x\n",
    "\n",
    "# Problem definitions\n",
    "problems = [\n",
    "    # ✅ Problem 1\n",
    "    (\n",
    "        [[1, 1, 1], [0, 2, 5], [2, 5, -1]],\n",
    "        [6, -4, 27]\n",
    "    ),\n",
    "    # ✅ Problem 2\n",
    "    (\n",
    "        [[3, 2, -1], [2, -2, 4], [-1, 0.5, -1]],\n",
    "        [1, -2, 0]\n",
    "    ),\n",
    "    # ⚠️ Problem 3 (Singular matrix)\n",
    "    (\n",
    "        [[1, 2, 3], [2, 3, 4], [3, 4, 5]],\n",
    "        [14, 20, 26]\n",
    "    ),\n",
    "    # ✅ Problem 4\n",
    "    (\n",
    "        [[1, 1], [1, -1]],\n",
    "        [2, 0]\n",
    "    ),\n",
    "    # ✅ Problem 5\n",
    "    (\n",
    "        [[4, -1, 1], [2, 2, 1], [-2, 1, 2]],\n",
    "        [7, 4, -1]\n",
    "    ),\n",
    "]\n",
    "\n",
    "# Solve all problems\n",
    "for i, (a, b) in enumerate(problems, start=1):\n",
    "    try:\n",
    "        solution = gauss_elimination([row[:] for row in a], b[:])\n",
    "        rounded_solution = [round(num, 4) for num in solution]\n",
    "        print(f\"Problem {i} Solution:\", rounded_solution)\n",
    "    except ValueError as e:\n",
    "        print(f\"Problem {i} Error: {e}\")\n"
   ]
  }
 ],
 "metadata": {
  "kernelspec": {
   "display_name": "base",
   "language": "python",
   "name": "python3"
  },
  "language_info": {
   "codemirror_mode": {
    "name": "ipython",
    "version": 3
   },
   "file_extension": ".py",
   "mimetype": "text/x-python",
   "name": "python",
   "nbconvert_exporter": "python",
   "pygments_lexer": "ipython3",
   "version": "3.13.5"
  }
 },
 "nbformat": 4,
 "nbformat_minor": 5
}
