{
 "cells": [
  {
   "cell_type": "code",
   "execution_count": 1,
   "id": "1d28a04c",
   "metadata": {},
   "outputs": [
    {
     "name": "stdout",
     "output_type": "stream",
     "text": [
      "Predictions on test set: [1 1]\n",
      "Accuracy: 0.5\n",
      "Prediction for new data: [1]\n"
     ]
    },
    {
     "name": "stderr",
     "output_type": "stream",
     "text": [
      "/home/basar/.pyenv/versions/3.11.9/lib/python3.11/site-packages/sklearn/utils/validation.py:2749: UserWarning: X does not have valid feature names, but StandardScaler was fitted with feature names\n",
      "  warnings.warn(\n"
     ]
    }
   ],
   "source": [
    "import pandas as pd\n",
    "from sklearn.model_selection import train_test_split\n",
    "from sklearn.preprocessing import StandardScaler\n",
    "from sklearn.linear_model import LogisticRegression\n",
    "from sklearn.metrics import accuracy_score\n",
    "\n",
    "# Sample Data\n",
    "data = {\n",
    "    'age': [22, 25, 47, 52, 46, 56, 55, 60],\n",
    "    'income': [15000, 29000, 48000, 60000, 52000, 80000, 75000, 90000],\n",
    "    'time_spent': [5, 10, 7, 8, 6, 12, 9, 11],\n",
    "    'buy_product': [0, 0, 1, 1, 1, 1, 1, 1]\n",
    "}\n",
    "\n",
    "df = pd.DataFrame(data)\n",
    "\n",
    "# Features and Target\n",
    "X = df[['age', 'income', 'time_spent']]\n",
    "y = df['buy_product']\n",
    "\n",
    "# Split Train and Test\n",
    "X_train, X_test, y_train, y_test = train_test_split(X, y, test_size=0.25, random_state=42)\n",
    "\n",
    "# Feature Scaling\n",
    "scaler = StandardScaler()\n",
    "X_train = scaler.fit_transform(X_train)\n",
    "X_test = scaler.transform(X_test)\n",
    "\n",
    "# Model Training\n",
    "model = LogisticRegression()\n",
    "model.fit(X_train, y_train)   # ✅ Model Fit\n",
    "\n",
    "# Prediction on Test Set\n",
    "y_pred = model.predict(X_test)  # ✅ Predict\n",
    "print(\"Predictions on test set:\", y_pred)\n",
    "\n",
    "# Accuracy\n",
    "accuracy = accuracy_score(y_test, y_pred)  # ✅ Accuracy Score\n",
    "print(\"Accuracy:\", accuracy)\n",
    "\n",
    "# Predict for a New Value\n",
    "new_data = [[30, 40000, 6]]  # Age=30, Income=40000, Time Spent=6\n",
    "new_data_scaled = scaler.transform(new_data)\n",
    "new_pred = model.predict(new_data_scaled)  # ✅ New Prediction\n",
    "print(\"Prediction for new data:\", new_pred)\n"
   ]
  }
 ],
 "metadata": {
  "kernelspec": {
   "display_name": "3.11.9",
   "language": "python",
   "name": "python3"
  },
  "language_info": {
   "codemirror_mode": {
    "name": "ipython",
    "version": 3
   },
   "file_extension": ".py",
   "mimetype": "text/x-python",
   "name": "python",
   "nbconvert_exporter": "python",
   "pygments_lexer": "ipython3",
   "version": "3.11.9"
  }
 },
 "nbformat": 4,
 "nbformat_minor": 5
}
