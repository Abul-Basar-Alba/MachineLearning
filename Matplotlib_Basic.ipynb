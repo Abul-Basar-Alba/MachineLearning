{
 "cells": [
  {
   "cell_type": "markdown",
   "id": "fe02f78c",
   "metadata": {},
   "source": [
    "# 📊 Matplotlib সম্পূর্ণ ডকুমেন্টেশন (বাংলায় বিস্তারিত)"
   ]
  },
  {
   "cell_type": "markdown",
   "id": "e27497ab",
   "metadata": {},
   "source": [
    "## 🔰 ভূমিকা\n",
    "**Matplotlib** হলো Python-এর একটি জনপ্রিয় ডেটা ভিজ্যুয়ালাইজেশন লাইব্রেরি। এটি ব্যবহার করে বিভিন্ন ধরনের গ্রাফ/চার্ট তৈরি করা যায়—যেমন:\n",
    "- Line Plot\n",
    "- Bar Chart\n",
    "- Scatter Plot\n",
    "- Pie Chart\n",
    "- Histogram\n",
    "- Box Plot\n",
    "- Heatmap\n",
    "- 3D Plot\n",
    "- Animation\n"
   ]
  },
  {
   "cell_type": "markdown",
   "id": "40a0c3a7",
   "metadata": {},
   "source": [
    "## 📦 ইনস্টলেশন"
   ]
  },
  {
   "cell_type": "code",
   "execution_count": null,
   "id": "9e87e2e5",
   "metadata": {},
   "outputs": [],
   "source": [
    "!pip install matplotlib"
   ]
  },
  {
   "cell_type": "markdown",
   "id": "dcb6d267",
   "metadata": {},
   "source": [
    "## 🎯 Pyplot API উদাহরণ"
   ]
  },
  {
   "cell_type": "code",
   "execution_count": null,
   "id": "4c732f53",
   "metadata": {},
   "outputs": [],
   "source": [
    "import matplotlib.pyplot as plt\n",
    "\n",
    "x = [1, 2, 3, 4]\n",
    "y = [2, 4, 6, 8]\n",
    "\n",
    "plt.plot(x, y)\n",
    "plt.title(\"Simple Line Plot\")\n",
    "plt.xlabel(\"X-Axis\")\n",
    "plt.ylabel(\"Y-Axis\")\n",
    "plt.grid(True)\n",
    "plt.show()"
   ]
  },
  {
   "cell_type": "markdown",
   "id": "a68ec3c6",
   "metadata": {},
   "source": [
    "## ✅ Bar Chart উদাহরণ"
   ]
  },
  {
   "cell_type": "code",
   "execution_count": null,
   "id": "caeb9e21",
   "metadata": {},
   "outputs": [],
   "source": [
    "plt.bar(['A', 'B', 'C'], [10, 20, 15], color='orange')\n",
    "plt.title(\"Bar Chart\")\n",
    "plt.show()"
   ]
  },
  {
   "cell_type": "markdown",
   "id": "0601f35e",
   "metadata": {},
   "source": [
    "## ✅ Scatter Plot উদাহরণ"
   ]
  },
  {
   "cell_type": "code",
   "execution_count": null,
   "id": "baddeb40",
   "metadata": {},
   "outputs": [],
   "source": [
    "plt.scatter([1, 2, 3], [5, 2, 7], color='green', marker='x')\n",
    "plt.title(\"Scatter Plot\")\n",
    "plt.show()"
   ]
  },
  {
   "cell_type": "markdown",
   "id": "7fb72c05",
   "metadata": {},
   "source": [
    "## ✅ Histogram উদাহরণ"
   ]
  },
  {
   "cell_type": "code",
   "execution_count": null,
   "id": "81706e38",
   "metadata": {},
   "outputs": [],
   "source": [
    "import numpy as np\n",
    "\n",
    "data = np.random.randn(1000)\n",
    "plt.hist(data, bins=30, color='gray')\n",
    "plt.title(\"Histogram\")\n",
    "plt.show()"
   ]
  },
  {
   "cell_type": "markdown",
   "id": "bc341a28",
   "metadata": {},
   "source": [
    "## ✅ Pie Chart উদাহরণ"
   ]
  },
  {
   "cell_type": "code",
   "execution_count": null,
   "id": "58cf519a",
   "metadata": {},
   "outputs": [],
   "source": [
    "labels = ['Python', 'Java', 'C++']\n",
    "sizes = [40, 30, 30]\n",
    "\n",
    "plt.pie(sizes, labels=labels, autopct='%1.1f%%')\n",
    "plt.title(\"Pie Chart\")\n",
    "plt.show()"
   ]
  }
 ],
 "metadata": {},
 "nbformat": 4,
 "nbformat_minor": 5
}
