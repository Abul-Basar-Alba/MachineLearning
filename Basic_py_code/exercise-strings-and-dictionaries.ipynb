{
 "cells": [
  {
   "cell_type": "markdown",
   "id": "52de339b",
   "metadata": {
    "papermill": {
     "duration": 0.00467,
     "end_time": "2025-08-01T06:19:38.313485",
     "exception": false,
     "start_time": "2025-08-01T06:19:38.308815",
     "status": "completed"
    },
    "tags": []
   },
   "source": [
    "**This notebook is an exercise in the [Python](https://www.kaggle.com/learn/python) course.  You can reference the tutorial at [this link](https://www.kaggle.com/colinmorris/strings-and-dictionaries).**\n",
    "\n",
    "---\n"
   ]
  },
  {
   "cell_type": "markdown",
   "id": "2e3b6946",
   "metadata": {
    "papermill": {
     "duration": 0.003403,
     "end_time": "2025-08-01T06:19:38.320862",
     "exception": false,
     "start_time": "2025-08-01T06:19:38.317459",
     "status": "completed"
    },
    "tags": []
   },
   "source": [
    "You are almost done with the course. Nice job!\n",
    "\n",
    "We have a couple more interesting problems for you before you go. \n",
    "\n",
    "As always, run the setup code below before working on the questions."
   ]
  },
  {
   "cell_type": "markdown",
   "id": "4e8e90b8",
   "metadata": {
    "papermill": {
     "duration": 0.003715,
     "end_time": "2025-08-01T06:19:40.254825",
     "exception": false,
     "start_time": "2025-08-01T06:19:40.251110",
     "status": "completed"
    },
    "tags": []
   },
   "source": [
    "Let's start with a string lightning round to warm up. What are the lengths of the strings below?\n",
    "\n",
    "For each of the five strings below, predict what `len()` would return when passed that string. Use the variable `length` to record your answer, then run the cell to check whether you were right.  \n",
    "\n",
    "# 0a."
   ]
  },
  {
   "cell_type": "code",
   "execution_count": 28,
   "id": "b6f992ab",
   "metadata": {
    "execution": {
     "iopub.execute_input": "2025-08-01T06:19:40.263823Z",
     "iopub.status.busy": "2025-08-01T06:19:40.263386Z",
     "iopub.status.idle": "2025-08-01T06:19:40.271642Z",
     "shell.execute_reply": "2025-08-01T06:19:40.270826Z"
    },
    "papermill": {
     "duration": 0.01421,
     "end_time": "2025-08-01T06:19:40.272909",
     "exception": false,
     "start_time": "2025-08-01T06:19:40.258699",
     "status": "completed"
    },
    "tags": []
   },
   "outputs": [],
   "source": [
    "a = \"\"\n",
    "length = len(a)\n",
    "#q0.a.check()\n"
   ]
  },
  {
   "cell_type": "markdown",
   "id": "cc270bfa",
   "metadata": {
    "papermill": {
     "duration": 0.003705,
     "end_time": "2025-08-01T06:19:40.281162",
     "exception": false,
     "start_time": "2025-08-01T06:19:40.277457",
     "status": "completed"
    },
    "tags": []
   },
   "source": [
    "# 0b."
   ]
  },
  {
   "cell_type": "code",
   "execution_count": 29,
   "id": "913f8248",
   "metadata": {
    "execution": {
     "iopub.execute_input": "2025-08-01T06:19:40.289988Z",
     "iopub.status.busy": "2025-08-01T06:19:40.289702Z",
     "iopub.status.idle": "2025-08-01T06:19:40.296395Z",
     "shell.execute_reply": "2025-08-01T06:19:40.295552Z"
    },
    "papermill": {
     "duration": 0.012765,
     "end_time": "2025-08-01T06:19:40.297753",
     "exception": false,
     "start_time": "2025-08-01T06:19:40.284988",
     "status": "completed"
    },
    "tags": []
   },
   "outputs": [],
   "source": [
    "b = \"it's ok\"\n",
    "length = len(b)\n",
    "#q0.b.check()"
   ]
  },
  {
   "cell_type": "markdown",
   "id": "8f861710",
   "metadata": {
    "papermill": {
     "duration": 0.003802,
     "end_time": "2025-08-01T06:19:40.305690",
     "exception": false,
     "start_time": "2025-08-01T06:19:40.301888",
     "status": "completed"
    },
    "tags": []
   },
   "source": [
    "# 0c."
   ]
  },
  {
   "cell_type": "code",
   "execution_count": 30,
   "id": "b818ad40",
   "metadata": {
    "execution": {
     "iopub.execute_input": "2025-08-01T06:19:40.316562Z",
     "iopub.status.busy": "2025-08-01T06:19:40.315820Z",
     "iopub.status.idle": "2025-08-01T06:19:40.323142Z",
     "shell.execute_reply": "2025-08-01T06:19:40.322013Z"
    },
    "papermill": {
     "duration": 0.013755,
     "end_time": "2025-08-01T06:19:40.324547",
     "exception": false,
     "start_time": "2025-08-01T06:19:40.310792",
     "status": "completed"
    },
    "tags": []
   },
   "outputs": [],
   "source": [
    "c = 'it\\'s ok'\n",
    "length = len(c)\n",
    "#q0.c.check()"
   ]
  },
  {
   "cell_type": "markdown",
   "id": "7154eab8",
   "metadata": {
    "papermill": {
     "duration": 0.004349,
     "end_time": "2025-08-01T06:19:40.333480",
     "exception": false,
     "start_time": "2025-08-01T06:19:40.329131",
     "status": "completed"
    },
    "tags": []
   },
   "source": [
    "# 0d."
   ]
  },
  {
   "cell_type": "code",
   "execution_count": 31,
   "id": "d9619b9e",
   "metadata": {
    "execution": {
     "iopub.execute_input": "2025-08-01T06:19:40.343072Z",
     "iopub.status.busy": "2025-08-01T06:19:40.342777Z",
     "iopub.status.idle": "2025-08-01T06:19:40.349450Z",
     "shell.execute_reply": "2025-08-01T06:19:40.348839Z"
    },
    "papermill": {
     "duration": 0.012904,
     "end_time": "2025-08-01T06:19:40.350685",
     "exception": false,
     "start_time": "2025-08-01T06:19:40.337781",
     "status": "completed"
    },
    "tags": []
   },
   "outputs": [],
   "source": [
    "d = \"\"\"hey\"\"\"\n",
    "length = len(d)\n",
    "#q0.d.check()"
   ]
  },
  {
   "cell_type": "markdown",
   "id": "2e629b0f",
   "metadata": {
    "papermill": {
     "duration": 0.004749,
     "end_time": "2025-08-01T06:19:40.359835",
     "exception": false,
     "start_time": "2025-08-01T06:19:40.355086",
     "status": "completed"
    },
    "tags": []
   },
   "source": [
    "# 0e."
   ]
  },
  {
   "cell_type": "code",
   "execution_count": 32,
   "id": "a222c270",
   "metadata": {
    "execution": {
     "iopub.execute_input": "2025-08-01T06:19:40.369563Z",
     "iopub.status.busy": "2025-08-01T06:19:40.369282Z",
     "iopub.status.idle": "2025-08-01T06:19:40.375868Z",
     "shell.execute_reply": "2025-08-01T06:19:40.375050Z"
    },
    "papermill": {
     "duration": 0.012991,
     "end_time": "2025-08-01T06:19:40.377187",
     "exception": false,
     "start_time": "2025-08-01T06:19:40.364196",
     "status": "completed"
    },
    "tags": []
   },
   "outputs": [],
   "source": [
    "e = '\\n'\n",
    "length = len(e)\n",
    "#q0.e.check()"
   ]
  },
  {
   "cell_type": "markdown",
   "id": "a9a5c44f",
   "metadata": {
    "papermill": {
     "duration": 0.004426,
     "end_time": "2025-08-01T06:19:40.386260",
     "exception": false,
     "start_time": "2025-08-01T06:19:40.381834",
     "status": "completed"
    },
    "tags": []
   },
   "source": [
    "# 1.\n",
    "\n",
    "There is a saying that \"Data scientists spend 80% of their time cleaning data, and 20% of their time complaining about cleaning data.\" Let's see if you can write a function to help clean US zip code data. Given a string, it should return whether or not that string represents a valid zip code. For our purposes, a valid zip code is any string consisting of exactly 5 digits.\n",
    "\n",
    "HINT: `str` has a method that will be useful here. Use `help(str)` to review a list of string methods."
   ]
  },
  {
   "cell_type": "code",
   "execution_count": 33,
   "id": "e6a1a072",
   "metadata": {
    "execution": {
     "iopub.execute_input": "2025-08-01T06:19:40.396414Z",
     "iopub.status.busy": "2025-08-01T06:19:40.396125Z",
     "iopub.status.idle": "2025-08-01T06:19:40.402765Z",
     "shell.execute_reply": "2025-08-01T06:19:40.402068Z"
    },
    "papermill": {
     "duration": 0.01329,
     "end_time": "2025-08-01T06:19:40.404017",
     "exception": false,
     "start_time": "2025-08-01T06:19:40.390727",
     "status": "completed"
    },
    "tags": []
   },
   "outputs": [],
   "source": [
    "def is_valid_zip(zip_code):\n",
    "    \"\"\"Returns whether the input string is a valid (5 digit) zip code\"\"\"\n",
    "    return len(zip_code) == 5 and zip_code.isdigit()\n",
    "\n",
    "\n",
    "# Check your answer\n",
    "#q1.check()"
   ]
  },
  {
   "cell_type": "code",
   "execution_count": 34,
   "id": "46ae6bcd",
   "metadata": {
    "execution": {
     "iopub.execute_input": "2025-08-01T06:19:40.414556Z",
     "iopub.status.busy": "2025-08-01T06:19:40.414282Z",
     "iopub.status.idle": "2025-08-01T06:19:40.417772Z",
     "shell.execute_reply": "2025-08-01T06:19:40.417125Z"
    },
    "papermill": {
     "duration": 0.010179,
     "end_time": "2025-08-01T06:19:40.418963",
     "exception": false,
     "start_time": "2025-08-01T06:19:40.408784",
     "status": "completed"
    },
    "tags": []
   },
   "outputs": [],
   "source": [
    "#q1.hint()\n",
    "#q1.solution()"
   ]
  },
  {
   "cell_type": "markdown",
   "id": "6a2df375",
   "metadata": {
    "papermill": {
     "duration": 0.004548,
     "end_time": "2025-08-01T06:19:40.428291",
     "exception": false,
     "start_time": "2025-08-01T06:19:40.423743",
     "status": "completed"
    },
    "tags": []
   },
   "source": [
    "# 2.\n",
    "\n",
    "A researcher has gathered thousands of news articles. But she wants to focus her attention on articles including a specific word. Complete the function below to help her filter her list of articles.\n",
    "\n",
    "Your function should meet the following criteria:\n",
    "\n",
    "- Do not include documents where the keyword string shows up only as a part of a larger word. For example, if she were looking for the keyword “closed”, you would not include the string “enclosed.” \n",
    "- She does not want you to distinguish upper case from lower case letters. So the phrase “Closed the case.” would be included when the keyword is “closed”\n",
    "- Do not let periods or commas affect what is matched. “It is closed.” would be included when the keyword is “closed”. But you can assume there are no other types of punctuation."
   ]
  },
  {
   "cell_type": "code",
   "execution_count": 35,
   "id": "61ed5e32",
   "metadata": {
    "execution": {
     "iopub.execute_input": "2025-08-01T06:19:40.438989Z",
     "iopub.status.busy": "2025-08-01T06:19:40.438693Z",
     "iopub.status.idle": "2025-08-01T06:19:40.446302Z",
     "shell.execute_reply": "2025-08-01T06:19:40.445655Z"
    },
    "papermill": {
     "duration": 0.014547,
     "end_time": "2025-08-01T06:19:40.447530",
     "exception": false,
     "start_time": "2025-08-01T06:19:40.432983",
     "status": "completed"
    },
    "tags": []
   },
   "outputs": [],
   "source": [
    "def word_search(doc_list, keyword):\n",
    "    keyword = keyword.lower()\n",
    "    result = []\n",
    "    \n",
    "    for i, doc in enumerate(doc_list):\n",
    "        # Remove punctuation\n",
    "        clean_doc = doc.replace('.', '').replace(',', '')\n",
    "        # Convert to lower case and split into words\n",
    "        words = clean_doc.lower().split()\n",
    "        if keyword in words:\n",
    "            result.append(i)\n",
    "    \n",
    "    return result\n",
    "\n",
    "\n",
    "# Check your answer\n",
    "#q2.check()"
   ]
  },
  {
   "cell_type": "code",
   "execution_count": 36,
   "id": "bf87f98e",
   "metadata": {
    "execution": {
     "iopub.execute_input": "2025-08-01T06:19:40.458740Z",
     "iopub.status.busy": "2025-08-01T06:19:40.458452Z",
     "iopub.status.idle": "2025-08-01T06:19:40.462129Z",
     "shell.execute_reply": "2025-08-01T06:19:40.461354Z"
    },
    "papermill": {
     "duration": 0.010693,
     "end_time": "2025-08-01T06:19:40.463367",
     "exception": false,
     "start_time": "2025-08-01T06:19:40.452674",
     "status": "completed"
    },
    "tags": []
   },
   "outputs": [],
   "source": [
    "#q2.hint()\n",
    "#q2.solution()"
   ]
  },
  {
   "cell_type": "markdown",
   "id": "10332f53",
   "metadata": {
    "papermill": {
     "duration": 0.004809,
     "end_time": "2025-08-01T06:19:40.473161",
     "exception": false,
     "start_time": "2025-08-01T06:19:40.468352",
     "status": "completed"
    },
    "tags": []
   },
   "source": [
    "# 3.\n",
    "\n",
    "Now the researcher wants to supply multiple keywords to search for. Complete the function below to help her.\n",
    "\n",
    "(You're encouraged to use the `word_search` function you just wrote when implementing this function. Reusing code in this way makes your programs more robust and readable - and it saves typing!)"
   ]
  },
  {
   "cell_type": "code",
   "execution_count": 37,
   "id": "c6299f25",
   "metadata": {
    "execution": {
     "iopub.execute_input": "2025-08-01T06:19:40.484502Z",
     "iopub.status.busy": "2025-08-01T06:19:40.484222Z",
     "iopub.status.idle": "2025-08-01T06:19:40.491201Z",
     "shell.execute_reply": "2025-08-01T06:19:40.490546Z"
    },
    "papermill": {
     "duration": 0.014457,
     "end_time": "2025-08-01T06:19:40.492468",
     "exception": false,
     "start_time": "2025-08-01T06:19:40.478011",
     "status": "completed"
    },
    "tags": []
   },
   "outputs": [],
   "source": [
    "def multi_word_search(doc_list, keywords):\n",
    "    result = {}\n",
    "    for keyword in keywords:\n",
    "        result[keyword] = word_search(doc_list, keyword)\n",
    "    return result\n",
    "\n",
    "\n",
    "# Check your answer\n",
    "#q3.check()"
   ]
  },
  {
   "cell_type": "code",
   "execution_count": 38,
   "id": "03c00872",
   "metadata": {
    "execution": {
     "iopub.execute_input": "2025-08-01T06:19:40.504172Z",
     "iopub.status.busy": "2025-08-01T06:19:40.503446Z",
     "iopub.status.idle": "2025-08-01T06:19:40.506935Z",
     "shell.execute_reply": "2025-08-01T06:19:40.506335Z"
    },
    "papermill": {
     "duration": 0.010484,
     "end_time": "2025-08-01T06:19:40.508125",
     "exception": false,
     "start_time": "2025-08-01T06:19:40.497641",
     "status": "completed"
    },
    "tags": []
   },
   "outputs": [],
   "source": [
    "#q3.solution()"
   ]
  },
  {
   "cell_type": "markdown",
   "id": "8493a780",
   "metadata": {
    "papermill": {
     "duration": 0.005123,
     "end_time": "2025-08-01T06:19:40.518463",
     "exception": false,
     "start_time": "2025-08-01T06:19:40.513340",
     "status": "completed"
    },
    "tags": []
   },
   "source": [
    "# Keep Going\n",
    "\n",
    "You've learned a lot. But even the best programmers rely heavily on \"libraries\" of code from other programmers. You'll learn about that in **[the last lesson](https://www.kaggle.com/colinmorris/working-with-external-libraries)**.\n"
   ]
  },
  {
   "cell_type": "markdown",
   "id": "85bc908c",
   "metadata": {
    "papermill": {
     "duration": 0.004832,
     "end_time": "2025-08-01T06:19:40.528257",
     "exception": false,
     "start_time": "2025-08-01T06:19:40.523425",
     "status": "completed"
    },
    "tags": []
   },
   "source": [
    "---\n",
    "\n",
    "\n",
    "\n",
    "\n",
    "*Have questions or comments? Visit the [course discussion forum](https://www.kaggle.com/learn/python/discussion) to chat with other learners.*"
   ]
  }
 ],
 "metadata": {
  "kaggle": {
   "accelerator": "none",
   "dataSources": [],
   "isGpuEnabled": false,
   "isInternetEnabled": false,
   "language": "python",
   "sourceType": "notebook"
  },
  "kernelspec": {
   "display_name": "base",
   "language": "python",
   "name": "python3"
  },
  "language_info": {
   "codemirror_mode": {
    "name": "ipython",
    "version": 3
   },
   "file_extension": ".py",
   "mimetype": "text/x-python",
   "name": "python",
   "nbconvert_exporter": "python",
   "pygments_lexer": "ipython3",
   "version": "3.13.5"
  },
  "learntools_metadata": {
   "lesson_index": 5,
   "type": "exercise"
  },
  "papermill": {
   "default_parameters": {},
   "duration": 7.330407,
   "end_time": "2025-08-01T06:19:41.051859",
   "environment_variables": {},
   "exception": null,
   "input_path": "__notebook__.ipynb",
   "output_path": "__notebook__.ipynb",
   "parameters": {},
   "start_time": "2025-08-01T06:19:33.721452",
   "version": "2.6.0"
  }
 },
 "nbformat": 4,
 "nbformat_minor": 5
}
