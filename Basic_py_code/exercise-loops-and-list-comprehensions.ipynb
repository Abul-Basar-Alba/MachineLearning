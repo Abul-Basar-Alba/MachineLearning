{
 "cells": [
  {
   "cell_type": "markdown",
   "id": "034b2324",
   "metadata": {
    "papermill": {
     "duration": 0.004779,
     "end_time": "2025-08-01T06:10:42.295137",
     "exception": false,
     "start_time": "2025-08-01T06:10:42.290358",
     "status": "completed"
    },
    "tags": []
   },
   "source": [
    "**This notebook is an exercise in the [Python](https://www.kaggle.com/learn/python) course.  You can reference the tutorial at [this link](https://www.kaggle.com/colinmorris/loops-and-list-comprehensions).**\n",
    "\n",
    "---\n"
   ]
  },
  {
   "cell_type": "markdown",
   "id": "fef9d721",
   "metadata": {
    "papermill": {
     "duration": 0.003599,
     "end_time": "2025-08-01T06:10:42.302888",
     "exception": false,
     "start_time": "2025-08-01T06:10:42.299289",
     "status": "completed"
    },
    "tags": []
   },
   "source": [
    "With all you've learned, you can start writing much more interesting programs. See if you can solve the problems below.\n",
    "\n",
    "As always, run the setup code below before working on the questions."
   ]
  },
  {
   "cell_type": "markdown",
   "id": "ee5e4449",
   "metadata": {
    "papermill": {
     "duration": 0.003732,
     "end_time": "2025-08-01T06:10:44.264771",
     "exception": false,
     "start_time": "2025-08-01T06:10:44.261039",
     "status": "completed"
    },
    "tags": []
   },
   "source": [
    "# 1.\n",
    "\n",
    "Have you ever felt debugging involved a bit of luck? The following program has a bug. Try to identify the bug and fix it."
   ]
  },
  {
   "cell_type": "code",
   "execution_count": 34,
   "id": "44218261",
   "metadata": {
    "execution": {
     "iopub.execute_input": "2025-08-01T06:10:44.274075Z",
     "iopub.status.busy": "2025-08-01T06:10:44.273397Z",
     "iopub.status.idle": "2025-08-01T06:10:44.278626Z",
     "shell.execute_reply": "2025-08-01T06:10:44.277750Z"
    },
    "papermill": {
     "duration": 0.011615,
     "end_time": "2025-08-01T06:10:44.280214",
     "exception": false,
     "start_time": "2025-08-01T06:10:44.268599",
     "status": "completed"
    },
    "tags": []
   },
   "outputs": [],
   "source": [
    "def has_lucky_number(nums):\n",
    "    \"\"\"Return whether the given list of numbers is lucky. A lucky list contains\n",
    "    at least one number divisible by 7.\n",
    "    \"\"\"\n",
    "    for num in nums:\n",
    "        if num % 7 == 0:\n",
    "            return True\n",
    "        else:\n",
    "            return False"
   ]
  },
  {
   "cell_type": "markdown",
   "id": "3a81600d",
   "metadata": {
    "papermill": {
     "duration": 0.00363,
     "end_time": "2025-08-01T06:10:44.288008",
     "exception": false,
     "start_time": "2025-08-01T06:10:44.284378",
     "status": "completed"
    },
    "tags": []
   },
   "source": [
    "Try to identify the bug and fix it in the cell below:"
   ]
  },
  {
   "cell_type": "code",
   "execution_count": 35,
   "id": "888488d5",
   "metadata": {
    "execution": {
     "iopub.execute_input": "2025-08-01T06:10:44.296833Z",
     "iopub.status.busy": "2025-08-01T06:10:44.296520Z",
     "iopub.status.idle": "2025-08-01T06:10:44.305667Z",
     "shell.execute_reply": "2025-08-01T06:10:44.304839Z"
    },
    "papermill": {
     "duration": 0.015166,
     "end_time": "2025-08-01T06:10:44.306971",
     "exception": false,
     "start_time": "2025-08-01T06:10:44.291805",
     "status": "completed"
    },
    "tags": []
   },
   "outputs": [],
   "source": [
    "def has_lucky_number(nums):\n",
    "    for num in nums:\n",
    "        if num % 7 == 0:\n",
    "            return True\n",
    "    # We've exhausted the list without finding a lucky number\n",
    "    return False\n",
    "def has_lucky_number(nums):\n",
    "    return any([num % 7 == 0 for num in nums])\n",
    "# Check your answer\n",
    "#q1.check()"
   ]
  },
  {
   "cell_type": "code",
   "execution_count": 36,
   "id": "58f77a9a",
   "metadata": {
    "execution": {
     "iopub.execute_input": "2025-08-01T06:10:44.316176Z",
     "iopub.status.busy": "2025-08-01T06:10:44.315899Z",
     "iopub.status.idle": "2025-08-01T06:10:44.319940Z",
     "shell.execute_reply": "2025-08-01T06:10:44.318923Z"
    },
    "papermill": {
     "duration": 0.010229,
     "end_time": "2025-08-01T06:10:44.321308",
     "exception": false,
     "start_time": "2025-08-01T06:10:44.311079",
     "status": "completed"
    },
    "tags": []
   },
   "outputs": [],
   "source": [
    "#q1.hint()\n",
    "#q1.solution()"
   ]
  },
  {
   "cell_type": "markdown",
   "id": "b8393171",
   "metadata": {
    "papermill": {
     "duration": 0.003951,
     "end_time": "2025-08-01T06:10:44.330347",
     "exception": false,
     "start_time": "2025-08-01T06:10:44.326396",
     "status": "completed"
    },
    "tags": []
   },
   "source": [
    "# 2.\n",
    "Look at the Python expression below. What do you think we'll get when we run it? When you've made your prediction, uncomment the code and run the cell to see if you were right."
   ]
  },
  {
   "cell_type": "code",
   "execution_count": 37,
   "id": "7cad7b6d",
   "metadata": {
    "execution": {
     "iopub.execute_input": "2025-08-01T06:10:44.340552Z",
     "iopub.status.busy": "2025-08-01T06:10:44.339915Z",
     "iopub.status.idle": "2025-08-01T06:10:44.344591Z",
     "shell.execute_reply": "2025-08-01T06:10:44.343764Z"
    },
    "papermill": {
     "duration": 0.011598,
     "end_time": "2025-08-01T06:10:44.346029",
     "exception": false,
     "start_time": "2025-08-01T06:10:44.334431",
     "status": "completed"
    },
    "tags": []
   },
   "outputs": [],
   "source": [
    "def elementwise_greater_than(L, thresh):\n",
    "    res = []\n",
    "    for ele in L:\n",
    "        res.append(ele > thresh)\n",
    "    return res"
   ]
  },
  {
   "cell_type": "markdown",
   "id": "e4a2b336",
   "metadata": {
    "papermill": {
     "duration": 0.003744,
     "end_time": "2025-08-01T06:10:44.354027",
     "exception": false,
     "start_time": "2025-08-01T06:10:44.350283",
     "status": "completed"
    },
    "tags": []
   },
   "source": [
    "R and Python have some libraries (like numpy and pandas) compare each element of the list to 2 (i.e. do an 'element-wise' comparison) and give us a list of booleans like `[False, False, True, True]`. \n",
    "\n",
    "Implement a function that reproduces this behaviour, returning a list of booleans corresponding to whether the corresponding element is greater than n."
   ]
  },
  {
   "cell_type": "code",
   "execution_count": 38,
   "id": "c3289ff7",
   "metadata": {
    "execution": {
     "iopub.execute_input": "2025-08-01T06:10:44.363370Z",
     "iopub.status.busy": "2025-08-01T06:10:44.363068Z",
     "iopub.status.idle": "2025-08-01T06:10:44.370264Z",
     "shell.execute_reply": "2025-08-01T06:10:44.369587Z"
    },
    "papermill": {
     "duration": 0.013476,
     "end_time": "2025-08-01T06:10:44.371487",
     "exception": false,
     "start_time": "2025-08-01T06:10:44.358011",
     "status": "completed"
    },
    "tags": []
   },
   "outputs": [],
   "source": [
    "def elementwise_greater_than(L, thresh):\n",
    "    return [ele > thresh for ele in L]\n",
    "\n",
    "# Check your answer\n",
    "#q2.check()"
   ]
  },
  {
   "cell_type": "code",
   "execution_count": 39,
   "id": "8725197b",
   "metadata": {
    "execution": {
     "iopub.execute_input": "2025-08-01T06:10:44.381075Z",
     "iopub.status.busy": "2025-08-01T06:10:44.380798Z",
     "iopub.status.idle": "2025-08-01T06:10:44.384680Z",
     "shell.execute_reply": "2025-08-01T06:10:44.383867Z"
    },
    "papermill": {
     "duration": 0.010323,
     "end_time": "2025-08-01T06:10:44.386180",
     "exception": false,
     "start_time": "2025-08-01T06:10:44.375857",
     "status": "completed"
    },
    "tags": []
   },
   "outputs": [],
   "source": [
    "#q2.solution()"
   ]
  },
  {
   "cell_type": "markdown",
   "id": "8357afc2",
   "metadata": {
    "papermill": {
     "duration": 0.00408,
     "end_time": "2025-08-01T06:10:44.394689",
     "exception": false,
     "start_time": "2025-08-01T06:10:44.390609",
     "status": "completed"
    },
    "tags": []
   },
   "source": [
    "# 3.\n",
    "\n",
    "Complete the body of the function below according to its docstring."
   ]
  },
  {
   "cell_type": "code",
   "execution_count": 40,
   "id": "e28a5741",
   "metadata": {
    "execution": {
     "iopub.execute_input": "2025-08-01T06:10:44.405020Z",
     "iopub.status.busy": "2025-08-01T06:10:44.404260Z",
     "iopub.status.idle": "2025-08-01T06:10:44.412013Z",
     "shell.execute_reply": "2025-08-01T06:10:44.410987Z"
    },
    "papermill": {
     "duration": 0.014394,
     "end_time": "2025-08-01T06:10:44.413487",
     "exception": false,
     "start_time": "2025-08-01T06:10:44.399093",
     "status": "completed"
    },
    "tags": []
   },
   "outputs": [],
   "source": [
    "def menu_is_boring(meals):\n",
    "    # Iterate over all indices of the list, except the last one\n",
    "    for i in range(len(meals)-1):\n",
    "        if meals[i] == meals[i+1]:\n",
    "            return True\n",
    "    return False\n",
    "# Check your answer\n",
    "#q3.check()"
   ]
  },
  {
   "cell_type": "code",
   "execution_count": 41,
   "id": "8e46ed40",
   "metadata": {
    "execution": {
     "iopub.execute_input": "2025-08-01T06:10:44.425452Z",
     "iopub.status.busy": "2025-08-01T06:10:44.424862Z",
     "iopub.status.idle": "2025-08-01T06:10:44.429449Z",
     "shell.execute_reply": "2025-08-01T06:10:44.428577Z"
    },
    "papermill": {
     "duration": 0.012308,
     "end_time": "2025-08-01T06:10:44.430898",
     "exception": false,
     "start_time": "2025-08-01T06:10:44.418590",
     "status": "completed"
    },
    "tags": []
   },
   "outputs": [],
   "source": [
    "#q3.hint()\n",
    "#q3.solution()"
   ]
  },
  {
   "cell_type": "markdown",
   "id": "92453cb0",
   "metadata": {
    "papermill": {
     "duration": 0.005489,
     "end_time": "2025-08-01T06:10:44.441274",
     "exception": false,
     "start_time": "2025-08-01T06:10:44.435785",
     "status": "completed"
    },
    "tags": []
   },
   "source": [
    "# 4. <span title=\"A bit spicy\" style=\"color: darkgreen \">🌶️</span>\n",
    "\n",
    "Next to the Blackjack table, the Python Challenge Casino has a slot machine. You can get a result from the slot machine by calling `play_slot_machine()`. The number it returns is your winnings in dollars. Usually it returns 0.  But sometimes you'll get lucky and get a big payday. Try running it below:"
   ]
  },
  {
   "cell_type": "code",
   "execution_count": 42,
   "id": "eda1333e",
   "metadata": {
    "execution": {
     "iopub.execute_input": "2025-08-01T06:10:44.454953Z",
     "iopub.status.busy": "2025-08-01T06:10:44.454436Z",
     "iopub.status.idle": "2025-08-01T06:10:44.461157Z",
     "shell.execute_reply": "2025-08-01T06:10:44.459937Z"
    },
    "papermill": {
     "duration": 0.015113,
     "end_time": "2025-08-01T06:10:44.462696",
     "exception": false,
     "start_time": "2025-08-01T06:10:44.447583",
     "status": "completed"
    },
    "tags": []
   },
   "outputs": [],
   "source": [
    "#play_slot_machine()"
   ]
  },
  {
   "cell_type": "markdown",
   "id": "e3d78767",
   "metadata": {
    "papermill": {
     "duration": 0.005348,
     "end_time": "2025-08-01T06:10:44.473556",
     "exception": false,
     "start_time": "2025-08-01T06:10:44.468208",
     "status": "completed"
    },
    "tags": []
   },
   "source": [
    "By the way, did we mention that each play costs $1? Don't worry, we'll send you the bill later.\n",
    "\n",
    "On average, how much money can you expect to gain (or lose) every time you play the machine?  The casino keeps it a secret, but you can estimate the average value of each pull using a technique called the **Monte Carlo method**. To estimate the average outcome, we simulate the scenario many times, and return the average result.\n",
    "\n",
    "Complete the following function to calculate the average value per play of the slot machine."
   ]
  },
  {
   "cell_type": "code",
   "execution_count": 43,
   "id": "57d2c1f6",
   "metadata": {
    "execution": {
     "iopub.execute_input": "2025-08-01T06:10:44.485549Z",
     "iopub.status.busy": "2025-08-01T06:10:44.485251Z",
     "iopub.status.idle": "2025-08-01T06:10:44.489780Z",
     "shell.execute_reply": "2025-08-01T06:10:44.489087Z"
    },
    "papermill": {
     "duration": 0.011702,
     "end_time": "2025-08-01T06:10:44.491163",
     "exception": false,
     "start_time": "2025-08-01T06:10:44.479461",
     "status": "completed"
    },
    "tags": []
   },
   "outputs": [],
   "source": [
    "def estimate_average_slot_payout(n_runs):\n",
    "    # Play slot machine n_runs times, calculate payout of each\n",
    "    payouts = [play_slot_machine()-1 for i in range(n_runs)]\n",
    "    # Calculate the average value\n",
    "    avg_payout = sum(payouts) / n_runs\n",
    "    return avg_payout\n",
    "    pass"
   ]
  },
  {
   "cell_type": "markdown",
   "id": "18a29aed",
   "metadata": {
    "papermill": {
     "duration": 0.004205,
     "end_time": "2025-08-01T06:10:44.500180",
     "exception": false,
     "start_time": "2025-08-01T06:10:44.495975",
     "status": "completed"
    },
    "tags": []
   },
   "source": [
    "When you think you know the expected value per spin, run the code cell below to view the solution and get credit for answering the question."
   ]
  },
  {
   "cell_type": "code",
   "execution_count": 44,
   "id": "4cf4a22d",
   "metadata": {
    "execution": {
     "iopub.execute_input": "2025-08-01T06:10:44.510771Z",
     "iopub.status.busy": "2025-08-01T06:10:44.510442Z",
     "iopub.status.idle": "2025-08-01T06:10:44.517957Z",
     "shell.execute_reply": "2025-08-01T06:10:44.517116Z"
    },
    "papermill": {
     "duration": 0.014704,
     "end_time": "2025-08-01T06:10:44.519313",
     "exception": false,
     "start_time": "2025-08-01T06:10:44.504609",
     "status": "completed"
    },
    "tags": []
   },
   "outputs": [],
   "source": [
    "# Check your answer (Run this code cell to receive credit!)\n",
    "#q4.solution()"
   ]
  },
  {
   "cell_type": "markdown",
   "id": "1b269324",
   "metadata": {
    "papermill": {
     "duration": 0.004628,
     "end_time": "2025-08-01T06:10:44.529245",
     "exception": false,
     "start_time": "2025-08-01T06:10:44.524617",
     "status": "completed"
    },
    "tags": []
   },
   "source": [
    "# Keep Going\n",
    "\n",
    "Many programmers report that dictionaries are their favorite data structure. You'll get to **[learn about them](https://www.kaggle.com/colinmorris/strings-and-dictionaries)** (as well as strings) in the next lesson."
   ]
  },
  {
   "cell_type": "markdown",
   "id": "655942d0",
   "metadata": {
    "papermill": {
     "duration": 0.004595,
     "end_time": "2025-08-01T06:10:44.538871",
     "exception": false,
     "start_time": "2025-08-01T06:10:44.534276",
     "status": "completed"
    },
    "tags": []
   },
   "source": [
    "---\n",
    "\n",
    "\n",
    "\n",
    "\n",
    "*Have questions or comments? Visit the [course discussion forum](https://www.kaggle.com/learn/python/discussion) to chat with other learners.*"
   ]
  }
 ],
 "metadata": {
  "kaggle": {
   "accelerator": "none",
   "dataSources": [],
   "isGpuEnabled": false,
   "isInternetEnabled": false,
   "language": "python",
   "sourceType": "notebook"
  },
  "kernelspec": {
   "display_name": "base",
   "language": "python",
   "name": "python3"
  },
  "language_info": {
   "codemirror_mode": {
    "name": "ipython",
    "version": 3
   },
   "file_extension": ".py",
   "mimetype": "text/x-python",
   "name": "python",
   "nbconvert_exporter": "python",
   "pygments_lexer": "ipython3",
   "version": "3.13.5"
  },
  "learntools_metadata": {
   "lesson_index": 4,
   "type": "exercise"
  },
  "papermill": {
   "default_parameters": {},
   "duration": 7.571625,
   "end_time": "2025-08-01T06:10:45.063516",
   "environment_variables": {},
   "exception": null,
   "input_path": "__notebook__.ipynb",
   "output_path": "__notebook__.ipynb",
   "parameters": {},
   "start_time": "2025-08-01T06:10:37.491891",
   "version": "2.6.0"
  }
 },
 "nbformat": 4,
 "nbformat_minor": 5
}
