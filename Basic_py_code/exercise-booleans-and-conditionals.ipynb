{
 "cells": [
  {
   "cell_type": "markdown",
   "id": "68f9d0e0",
   "metadata": {
    "papermill": {
     "duration": 0.007074,
     "end_time": "2025-08-01T06:01:06.365326",
     "exception": false,
     "start_time": "2025-08-01T06:01:06.358252",
     "status": "completed"
    },
    "tags": []
   },
   "source": [
    "**This notebook is an exercise in the [Python](https://www.kaggle.com/learn/python) course.  You can reference the tutorial at [this link](https://www.kaggle.com/colinmorris/booleans-and-conditionals).**\n",
    "\n",
    "---\n"
   ]
  },
  {
   "cell_type": "markdown",
   "id": "6afc0414",
   "metadata": {
    "papermill": {
     "duration": 0.005889,
     "end_time": "2025-08-01T06:01:06.377632",
     "exception": false,
     "start_time": "2025-08-01T06:01:06.371743",
     "status": "completed"
    },
    "tags": []
   },
   "source": [
    "In this exercise, you'll put to work what you have learned about booleans and conditionals.\n",
    "\n",
    "To get started, **run the setup code below** before writing your own code (and if you leave this notebook and come back later, don't forget to run the setup code again)."
   ]
  },
  {
   "cell_type": "markdown",
   "id": "47cffac8",
   "metadata": {
    "papermill": {
     "duration": 0.006469,
     "end_time": "2025-08-01T06:01:08.369995",
     "exception": false,
     "start_time": "2025-08-01T06:01:08.363526",
     "status": "completed"
    },
    "tags": []
   },
   "source": [
    "# 1.\n",
    "\n",
    "Many programming languages have [`sign`](https://en.wikipedia.org/wiki/Sign_function) available as a built-in function. Python doesn't, but we can define our own!\n",
    "\n",
    "In the cell below, define a function called `sign` which takes a numerical argument and returns -1 if it's negative, 1 if it's positive, and 0 if it's 0."
   ]
  },
  {
   "cell_type": "code",
   "execution_count": 26,
   "id": "915da5b0",
   "metadata": {
    "execution": {
     "iopub.execute_input": "2025-08-01T06:01:08.383586Z",
     "iopub.status.busy": "2025-08-01T06:01:08.383183Z",
     "iopub.status.idle": "2025-08-01T06:01:08.392450Z",
     "shell.execute_reply": "2025-08-01T06:01:08.391663Z"
    },
    "papermill": {
     "duration": 0.017827,
     "end_time": "2025-08-01T06:01:08.393987",
     "exception": false,
     "start_time": "2025-08-01T06:01:08.376160",
     "status": "completed"
    },
    "tags": []
   },
   "outputs": [],
   "source": [
    "# Your code goes here. Define a function called 'sign'\n",
    "def sign(x):\n",
    "    if x > 0:\n",
    "        return 1\n",
    "    elif x < 0:\n",
    "        return -1\n",
    "    else:\n",
    "        return 0\n",
    "\n"
   ]
  },
  {
   "cell_type": "code",
   "execution_count": 27,
   "id": "3fbb0ed1",
   "metadata": {
    "execution": {
     "iopub.execute_input": "2025-08-01T06:01:08.408674Z",
     "iopub.status.busy": "2025-08-01T06:01:08.408377Z",
     "iopub.status.idle": "2025-08-01T06:01:08.412749Z",
     "shell.execute_reply": "2025-08-01T06:01:08.411750Z"
    },
    "papermill": {
     "duration": 0.013651,
     "end_time": "2025-08-01T06:01:08.414355",
     "exception": false,
     "start_time": "2025-08-01T06:01:08.400704",
     "status": "completed"
    },
    "tags": []
   },
   "outputs": [],
   "source": [
    "#q1.solution()"
   ]
  },
  {
   "cell_type": "markdown",
   "id": "2cdb5367",
   "metadata": {
    "papermill": {
     "duration": 0.006052,
     "end_time": "2025-08-01T06:01:08.427019",
     "exception": false,
     "start_time": "2025-08-01T06:01:08.420967",
     "status": "completed"
    },
    "tags": []
   },
   "source": [
    "# 2.\n",
    "\n",
    "We've decided to add \"logging\" to our `to_smash` function from the previous exercise."
   ]
  },
  {
   "cell_type": "code",
   "execution_count": 28,
   "id": "5471c7e3",
   "metadata": {
    "execution": {
     "iopub.execute_input": "2025-08-01T06:01:08.440802Z",
     "iopub.status.busy": "2025-08-01T06:01:08.440454Z",
     "iopub.status.idle": "2025-08-01T06:01:08.447154Z",
     "shell.execute_reply": "2025-08-01T06:01:08.446337Z"
    },
    "papermill": {
     "duration": 0.015195,
     "end_time": "2025-08-01T06:01:08.448500",
     "exception": false,
     "start_time": "2025-08-01T06:01:08.433305",
     "status": "completed"
    },
    "tags": []
   },
   "outputs": [
    {
     "name": "stdout",
     "output_type": "stream",
     "text": [
      "Splitting 91 candies\n"
     ]
    },
    {
     "data": {
      "text/plain": [
       "1"
      ]
     },
     "execution_count": 28,
     "metadata": {},
     "output_type": "execute_result"
    }
   ],
   "source": [
    "def to_smash(total_candies):\n",
    "    \"\"\"Return the number of leftover candies that must be smashed after distributing\n",
    "    the given number of candies evenly between 3 friends.\n",
    "    \n",
    "    >>> to_smash(91)\n",
    "    1\n",
    "    \"\"\"\n",
    "    print(\"Splitting\", total_candies, \"candies\")\n",
    "    return total_candies % 3\n",
    "\n",
    "to_smash(91)"
   ]
  },
  {
   "cell_type": "markdown",
   "id": "ab2b94c8",
   "metadata": {
    "papermill": {
     "duration": 0.006143,
     "end_time": "2025-08-01T06:01:08.461159",
     "exception": false,
     "start_time": "2025-08-01T06:01:08.455016",
     "status": "completed"
    },
    "tags": []
   },
   "source": [
    "What happens if we call it with `total_candies = 1`?"
   ]
  },
  {
   "cell_type": "code",
   "execution_count": 29,
   "id": "6b885b16",
   "metadata": {
    "execution": {
     "iopub.execute_input": "2025-08-01T06:01:08.475367Z",
     "iopub.status.busy": "2025-08-01T06:01:08.474629Z",
     "iopub.status.idle": "2025-08-01T06:01:08.480538Z",
     "shell.execute_reply": "2025-08-01T06:01:08.479591Z"
    },
    "papermill": {
     "duration": 0.01439,
     "end_time": "2025-08-01T06:01:08.481901",
     "exception": false,
     "start_time": "2025-08-01T06:01:08.467511",
     "status": "completed"
    },
    "tags": []
   },
   "outputs": [
    {
     "name": "stdout",
     "output_type": "stream",
     "text": [
      "Splitting 1 candies\n"
     ]
    },
    {
     "data": {
      "text/plain": [
       "1"
      ]
     },
     "execution_count": 29,
     "metadata": {},
     "output_type": "execute_result"
    }
   ],
   "source": [
    "to_smash(1)"
   ]
  },
  {
   "cell_type": "markdown",
   "id": "2ef1023d",
   "metadata": {
    "papermill": {
     "duration": 0.006297,
     "end_time": "2025-08-01T06:01:08.494984",
     "exception": false,
     "start_time": "2025-08-01T06:01:08.488687",
     "status": "completed"
    },
    "tags": []
   },
   "source": [
    "That isn't great grammar!\n",
    "\n",
    "Modify the definition in the cell below to correct the grammar of our print statement. (If there's only one candy, we should use the singular \"candy\" instead of the plural \"candies\")"
   ]
  },
  {
   "cell_type": "code",
   "execution_count": 30,
   "id": "5268a3de",
   "metadata": {
    "execution": {
     "iopub.execute_input": "2025-08-01T06:01:08.509077Z",
     "iopub.status.busy": "2025-08-01T06:01:08.508779Z",
     "iopub.status.idle": "2025-08-01T06:01:08.513079Z",
     "shell.execute_reply": "2025-08-01T06:01:08.512378Z"
    },
    "papermill": {
     "duration": 0.012947,
     "end_time": "2025-08-01T06:01:08.514434",
     "exception": false,
     "start_time": "2025-08-01T06:01:08.501487",
     "status": "completed"
    },
    "tags": []
   },
   "outputs": [],
   "source": [
    "def to_smash(total_candies):\n",
    "    print(\"Splitting\", total_candies, \"candy\" if total_candies == 1 else \"candies\")\n",
    "    return total_candies % 3\n",
    "\n"
   ]
  },
  {
   "cell_type": "markdown",
   "id": "597bf83a",
   "metadata": {
    "papermill": {
     "duration": 0.006701,
     "end_time": "2025-08-01T06:01:08.527974",
     "exception": false,
     "start_time": "2025-08-01T06:01:08.521273",
     "status": "completed"
    },
    "tags": []
   },
   "source": [
    "To get credit for completing this problem, and to see the official answer, run the code cell below."
   ]
  },
  {
   "cell_type": "code",
   "execution_count": 31,
   "id": "9beb3ba3",
   "metadata": {
    "execution": {
     "iopub.execute_input": "2025-08-01T06:01:08.542520Z",
     "iopub.status.busy": "2025-08-01T06:01:08.542222Z",
     "iopub.status.idle": "2025-08-01T06:01:08.548929Z",
     "shell.execute_reply": "2025-08-01T06:01:08.548228Z"
    },
    "papermill": {
     "duration": 0.015442,
     "end_time": "2025-08-01T06:01:08.550125",
     "exception": false,
     "start_time": "2025-08-01T06:01:08.534683",
     "status": "completed"
    },
    "tags": []
   },
   "outputs": [],
   "source": [
    "# Check your answer (Run this code cell to receive credit!)\n",
    "#q2.solution()"
   ]
  },
  {
   "cell_type": "markdown",
   "id": "3fe990e2",
   "metadata": {
    "papermill": {
     "duration": 0.007459,
     "end_time": "2025-08-01T06:01:08.564815",
     "exception": false,
     "start_time": "2025-08-01T06:01:08.557356",
     "status": "completed"
    },
    "tags": []
   },
   "source": [
    "# 3. <span title=\"A bit spicy\" style=\"color: darkgreen \">🌶️</span>\n",
    "\n",
    "In the tutorial, we talked about deciding whether we're prepared for the weather. I said that I'm safe from today's weather if...\n",
    "- I have an umbrella...\n",
    "- or if the rain isn't too heavy and I have a hood...\n",
    "- otherwise, I'm still fine unless it's raining *and* it's a workday\n",
    "\n",
    "The function below uses our first attempt at turning this logic into a Python expression. I claimed that there was a bug in that code. Can you find it?\n",
    "\n",
    "To prove that `prepared_for_weather` is buggy, come up with a set of inputs where either:\n",
    "- the function returns `False` (but should have returned `True`), or\n",
    "- the function returned `True` (but should have returned `False`).\n",
    "\n",
    "To get credit for completing this question, your code should return a <font color='#33cc33'>Correct</font> result."
   ]
  },
  {
   "cell_type": "code",
   "execution_count": 32,
   "id": "4ac559d3",
   "metadata": {
    "execution": {
     "iopub.execute_input": "2025-08-01T06:01:08.580031Z",
     "iopub.status.busy": "2025-08-01T06:01:08.579719Z",
     "iopub.status.idle": "2025-08-01T06:01:08.588734Z",
     "shell.execute_reply": "2025-08-01T06:01:08.588016Z"
    },
    "papermill": {
     "duration": 0.018336,
     "end_time": "2025-08-01T06:01:08.590109",
     "exception": false,
     "start_time": "2025-08-01T06:01:08.571773",
     "status": "completed"
    },
    "tags": []
   },
   "outputs": [
    {
     "name": "stdout",
     "output_type": "stream",
     "text": [
      "False\n"
     ]
    }
   ],
   "source": [
    "def prepared_for_weather(have_umbrella, rain_level, have_hood, is_workday):\n",
    "    # Don't change this code. Our goal is just to find the bug, not fix it!\n",
    "    return have_umbrella or rain_level < 5 and have_hood or not rain_level > 0 and is_workday\n",
    "\n",
    "# Change the values of these inputs so they represent a case where prepared_for_weather\n",
    "# returns the wrong answer.\n",
    "have_umbrella = False\n",
    "rain_level = 0.0\n",
    "have_hood = False\n",
    "is_workday = False\n",
    "\n",
    "# Check what the function returns given the current values of the variables above\n",
    "actual = prepared_for_weather(have_umbrella, rain_level, have_hood, is_workday)\n",
    "print(actual)\n",
    "\n"
   ]
  },
  {
   "cell_type": "code",
   "execution_count": 33,
   "id": "3054a75a",
   "metadata": {
    "execution": {
     "iopub.execute_input": "2025-08-01T06:01:08.605689Z",
     "iopub.status.busy": "2025-08-01T06:01:08.605099Z",
     "iopub.status.idle": "2025-08-01T06:01:08.608786Z",
     "shell.execute_reply": "2025-08-01T06:01:08.607991Z"
    },
    "papermill": {
     "duration": 0.012877,
     "end_time": "2025-08-01T06:01:08.610221",
     "exception": false,
     "start_time": "2025-08-01T06:01:08.597344",
     "status": "completed"
    },
    "tags": []
   },
   "outputs": [],
   "source": [
    "#q3.hint()\n",
    "#q3.solution()"
   ]
  },
  {
   "cell_type": "markdown",
   "id": "ee09cc86",
   "metadata": {
    "papermill": {
     "duration": 0.006751,
     "end_time": "2025-08-01T06:01:08.624282",
     "exception": false,
     "start_time": "2025-08-01T06:01:08.617531",
     "status": "completed"
    },
    "tags": []
   },
   "source": [
    "# 4.\n",
    "\n",
    "The function `is_negative` below is implemented correctly - it returns True if the given number is negative and False otherwise.\n",
    "\n",
    "However, it's more verbose than it needs to be. We can actually reduce the number of lines of code in this function by *75%* while keeping the same behaviour. \n",
    "\n",
    "See if you can come up with an equivalent body that uses just **one line** of code, and put it in the function `concise_is_negative`. (HINT: you don't even need Python's ternary syntax)"
   ]
  },
  {
   "cell_type": "code",
   "execution_count": 34,
   "id": "d8540400",
   "metadata": {
    "execution": {
     "iopub.execute_input": "2025-08-01T06:01:08.640072Z",
     "iopub.status.busy": "2025-08-01T06:01:08.639091Z",
     "iopub.status.idle": "2025-08-01T06:01:08.646858Z",
     "shell.execute_reply": "2025-08-01T06:01:08.646117Z"
    },
    "papermill": {
     "duration": 0.017137,
     "end_time": "2025-08-01T06:01:08.648300",
     "exception": false,
     "start_time": "2025-08-01T06:01:08.631163",
     "status": "completed"
    },
    "tags": []
   },
   "outputs": [],
   "source": [
    "def is_negative(number):\n",
    "    if number < 0:\n",
    "        return True\n",
    "    else:\n",
    "        return False\n",
    "\n",
    "def concise_is_negative(number):\n",
    "    pass # Your code goes here (try to keep it to one line!)\n",
    "    return number < 0\n"
   ]
  },
  {
   "cell_type": "code",
   "execution_count": 35,
   "id": "69f63a53",
   "metadata": {
    "execution": {
     "iopub.execute_input": "2025-08-01T06:01:08.664108Z",
     "iopub.status.busy": "2025-08-01T06:01:08.663784Z",
     "iopub.status.idle": "2025-08-01T06:01:08.667566Z",
     "shell.execute_reply": "2025-08-01T06:01:08.666709Z"
    },
    "papermill": {
     "duration": 0.013241,
     "end_time": "2025-08-01T06:01:08.668927",
     "exception": false,
     "start_time": "2025-08-01T06:01:08.655686",
     "status": "completed"
    },
    "tags": []
   },
   "outputs": [],
   "source": [
    "#q4.hint()\n",
    "#q4.solution()"
   ]
  },
  {
   "cell_type": "markdown",
   "id": "0a190ed2",
   "metadata": {
    "papermill": {
     "duration": 0.006994,
     "end_time": "2025-08-01T06:01:08.683337",
     "exception": false,
     "start_time": "2025-08-01T06:01:08.676343",
     "status": "completed"
    },
    "tags": []
   },
   "source": [
    "# 5a.\n",
    "\n",
    "The boolean variables `ketchup`, `mustard` and `onion` represent whether a customer wants a particular topping on their hot dog. We want to implement a number of boolean functions that correspond to some yes-or-no questions about the customer's order. For example:"
   ]
  },
  {
   "cell_type": "code",
   "execution_count": 36,
   "id": "71b8cbd8",
   "metadata": {
    "execution": {
     "iopub.execute_input": "2025-08-01T06:01:08.698970Z",
     "iopub.status.busy": "2025-08-01T06:01:08.698618Z",
     "iopub.status.idle": "2025-08-01T06:01:08.702943Z",
     "shell.execute_reply": "2025-08-01T06:01:08.702096Z"
    },
    "papermill": {
     "duration": 0.013899,
     "end_time": "2025-08-01T06:01:08.704466",
     "exception": false,
     "start_time": "2025-08-01T06:01:08.690567",
     "status": "completed"
    },
    "tags": []
   },
   "outputs": [],
   "source": [
    "def onionless(ketchup, mustard, onion):\n",
    "    \"\"\"Return whether the customer doesn't want onions.\n",
    "    \"\"\"\n",
    "    return not onion"
   ]
  },
  {
   "cell_type": "code",
   "execution_count": 37,
   "id": "7dd88dec",
   "metadata": {
    "execution": {
     "iopub.execute_input": "2025-08-01T06:01:08.720730Z",
     "iopub.status.busy": "2025-08-01T06:01:08.720007Z",
     "iopub.status.idle": "2025-08-01T06:01:08.727476Z",
     "shell.execute_reply": "2025-08-01T06:01:08.726701Z"
    },
    "papermill": {
     "duration": 0.016965,
     "end_time": "2025-08-01T06:01:08.728937",
     "exception": false,
     "start_time": "2025-08-01T06:01:08.711972",
     "status": "completed"
    },
    "tags": []
   },
   "outputs": [],
   "source": [
    "def wants_all_toppings(ketchup, mustard, onion):\n",
    "    \"\"\"Return whether the customer wants \"the works\" (all 3 toppings)\n",
    "    \"\"\"\n",
    "    pass\n",
    "    return ketchup and mustard and onion\n",
    "\n"
   ]
  },
  {
   "cell_type": "code",
   "execution_count": 38,
   "id": "54e9b08a",
   "metadata": {
    "execution": {
     "iopub.execute_input": "2025-08-01T06:01:08.744974Z",
     "iopub.status.busy": "2025-08-01T06:01:08.744709Z",
     "iopub.status.idle": "2025-08-01T06:01:08.748183Z",
     "shell.execute_reply": "2025-08-01T06:01:08.747465Z"
    },
    "papermill": {
     "duration": 0.013004,
     "end_time": "2025-08-01T06:01:08.749538",
     "exception": false,
     "start_time": "2025-08-01T06:01:08.736534",
     "status": "completed"
    },
    "tags": []
   },
   "outputs": [],
   "source": [
    "#q5.a.hint()\n",
    "#q5.a.solution()"
   ]
  },
  {
   "cell_type": "markdown",
   "id": "6dd9cca8",
   "metadata": {
    "papermill": {
     "duration": 0.068481,
     "end_time": "2025-08-01T06:01:08.825757",
     "exception": false,
     "start_time": "2025-08-01T06:01:08.757276",
     "status": "completed"
    },
    "tags": []
   },
   "source": [
    "# 5b.\n",
    "\n",
    "For the next function, fill in the body to match the English description in the docstring. "
   ]
  },
  {
   "cell_type": "code",
   "execution_count": 39,
   "id": "89ac8718",
   "metadata": {
    "execution": {
     "iopub.execute_input": "2025-08-01T06:01:08.842278Z",
     "iopub.status.busy": "2025-08-01T06:01:08.841562Z",
     "iopub.status.idle": "2025-08-01T06:01:08.848608Z",
     "shell.execute_reply": "2025-08-01T06:01:08.847779Z"
    },
    "papermill": {
     "duration": 0.016672,
     "end_time": "2025-08-01T06:01:08.849911",
     "exception": false,
     "start_time": "2025-08-01T06:01:08.833239",
     "status": "completed"
    },
    "tags": []
   },
   "outputs": [],
   "source": [
    "def wants_plain_hotdog(ketchup, mustard, onion):\n",
    "    \"\"\"Return whether the customer wants a plain hot dog with no toppings.\n",
    "    \"\"\"\n",
    "    pass\n",
    "    return not ketchup and not mustard and not onion\n",
    "\n"
   ]
  },
  {
   "cell_type": "code",
   "execution_count": 40,
   "id": "67a510e3",
   "metadata": {
    "execution": {
     "iopub.execute_input": "2025-08-01T06:01:08.866680Z",
     "iopub.status.busy": "2025-08-01T06:01:08.866364Z",
     "iopub.status.idle": "2025-08-01T06:01:08.869868Z",
     "shell.execute_reply": "2025-08-01T06:01:08.869205Z"
    },
    "papermill": {
     "duration": 0.013349,
     "end_time": "2025-08-01T06:01:08.871172",
     "exception": false,
     "start_time": "2025-08-01T06:01:08.857823",
     "status": "completed"
    },
    "tags": []
   },
   "outputs": [],
   "source": [
    "#q5.b.hint()\n",
    "#q5.b.solution()"
   ]
  },
  {
   "cell_type": "markdown",
   "id": "a05bae55",
   "metadata": {
    "papermill": {
     "duration": 0.007586,
     "end_time": "2025-08-01T06:01:08.886541",
     "exception": false,
     "start_time": "2025-08-01T06:01:08.878955",
     "status": "completed"
    },
    "tags": []
   },
   "source": [
    "# 5c.\n",
    "\n",
    "You know what to do: for the next function, fill in the body to match the English description in the docstring."
   ]
  },
  {
   "cell_type": "code",
   "execution_count": 41,
   "id": "67cdf6b4",
   "metadata": {
    "execution": {
     "iopub.execute_input": "2025-08-01T06:01:08.903167Z",
     "iopub.status.busy": "2025-08-01T06:01:08.902840Z",
     "iopub.status.idle": "2025-08-01T06:01:08.910009Z",
     "shell.execute_reply": "2025-08-01T06:01:08.909211Z"
    },
    "papermill": {
     "duration": 0.017273,
     "end_time": "2025-08-01T06:01:08.911522",
     "exception": false,
     "start_time": "2025-08-01T06:01:08.894249",
     "status": "completed"
    },
    "tags": []
   },
   "outputs": [],
   "source": [
    "def exactly_one_sauce(ketchup, mustard, onion):\n",
    "    \"\"\"Return whether the customer wants either ketchup or mustard, but not both.\n",
    "    (You may be familiar with this operation under the name \"exclusive or\")\n",
    "    \"\"\"\n",
    "    pass\n",
    "    return (ketchup and not mustard) or (mustard and not ketchup)\n",
    "\n"
   ]
  },
  {
   "cell_type": "code",
   "execution_count": 42,
   "id": "d661aa01",
   "metadata": {
    "execution": {
     "iopub.execute_input": "2025-08-01T06:01:08.929011Z",
     "iopub.status.busy": "2025-08-01T06:01:08.928725Z",
     "iopub.status.idle": "2025-08-01T06:01:08.932357Z",
     "shell.execute_reply": "2025-08-01T06:01:08.931591Z"
    },
    "papermill": {
     "duration": 0.014077,
     "end_time": "2025-08-01T06:01:08.933642",
     "exception": false,
     "start_time": "2025-08-01T06:01:08.919565",
     "status": "completed"
    },
    "tags": []
   },
   "outputs": [],
   "source": [
    "#q5.c.hint()\n",
    "#q5.c.solution()"
   ]
  },
  {
   "cell_type": "markdown",
   "id": "1ea88921",
   "metadata": {
    "papermill": {
     "duration": 0.007493,
     "end_time": "2025-08-01T06:01:08.949096",
     "exception": false,
     "start_time": "2025-08-01T06:01:08.941603",
     "status": "completed"
    },
    "tags": []
   },
   "source": [
    "# 6. <span title=\"A bit spicy\" style=\"color: darkgreen \">🌶️</span>\n",
    "\n",
    "We’ve seen that calling `bool()` on an integer returns `False` if it’s equal to 0 and `True` otherwise. What happens if we call `int()` on a bool? Try it out in the notebook cell below.\n",
    "\n",
    "Can you take advantage of this to write a succinct function that corresponds to the English sentence \"does the customer want exactly one topping?\"?"
   ]
  },
  {
   "cell_type": "code",
   "execution_count": 43,
   "id": "19c61a28",
   "metadata": {
    "execution": {
     "iopub.execute_input": "2025-08-01T06:01:08.966216Z",
     "iopub.status.busy": "2025-08-01T06:01:08.965870Z",
     "iopub.status.idle": "2025-08-01T06:01:08.973243Z",
     "shell.execute_reply": "2025-08-01T06:01:08.972467Z"
    },
    "papermill": {
     "duration": 0.017673,
     "end_time": "2025-08-01T06:01:08.974550",
     "exception": false,
     "start_time": "2025-08-01T06:01:08.956877",
     "status": "completed"
    },
    "tags": []
   },
   "outputs": [],
   "source": [
    "def exactly_one_topping(ketchup, mustard, onion):\n",
    "    \"\"\"Return whether the customer wants exactly one of the three available toppings\n",
    "    on their hot dog.\n",
    "    \"\"\"\n",
    "    pass\n",
    "    return (int(ketchup) + int(mustard) + int(onion)) == 1\n",
    "\n"
   ]
  },
  {
   "cell_type": "code",
   "execution_count": 44,
   "id": "63175a9b",
   "metadata": {
    "execution": {
     "iopub.execute_input": "2025-08-01T06:01:08.991670Z",
     "iopub.status.busy": "2025-08-01T06:01:08.991375Z",
     "iopub.status.idle": "2025-08-01T06:01:08.994925Z",
     "shell.execute_reply": "2025-08-01T06:01:08.994166Z"
    },
    "papermill": {
     "duration": 0.013742,
     "end_time": "2025-08-01T06:01:08.996350",
     "exception": false,
     "start_time": "2025-08-01T06:01:08.982608",
     "status": "completed"
    },
    "tags": []
   },
   "outputs": [],
   "source": [
    "#q6.hint()\n",
    "#q6.solution()"
   ]
  },
  {
   "cell_type": "markdown",
   "id": "bbab71e7",
   "metadata": {
    "papermill": {
     "duration": 0.007714,
     "end_time": "2025-08-01T06:01:09.012172",
     "exception": false,
     "start_time": "2025-08-01T06:01:09.004458",
     "status": "completed"
    },
    "tags": []
   },
   "source": [
    "# 7. <span title=\"A bit spicy\" style=\"color: darkgreen \">🌶️</span> (Optional)\n",
    "\n",
    "In this problem we'll be working with a simplified version of [blackjack](https://en.wikipedia.org/wiki/Blackjack) (aka twenty-one). In this version there is one player (who you'll control) and a dealer. Play proceeds as follows:\n",
    "\n",
    "- The player is dealt two face-up cards. The dealer is dealt one face-up card.\n",
    "- The player may ask to be dealt another card ('hit') as many times as they wish. If the sum of their cards exceeds 21, they lose the round immediately.\n",
    "- The dealer then deals additional cards to himself until either:\n",
    "    - the sum of the dealer's cards exceeds 21, in which case the player wins the round\n",
    "    - the sum of the dealer's cards is greater than or equal to 17. If the player's total is greater than the dealer's, the player wins. Otherwise, the dealer wins (even in case of a tie).\n",
    "    \n",
    "When calculating the sum of cards, Jack, Queen, and King count for 10. Aces can count as 1 or 11 (when referring to a player's \"total\" above, we mean the largest total that can be made without exceeding 21. So e.g. A+8 = 19, A+8+8 = 17)\n",
    "\n",
    "For this problem, you'll write a function representing the player's decision-making strategy in this game. We've provided a very unintelligent implementation below:"
   ]
  },
  {
   "cell_type": "code",
   "execution_count": 45,
   "id": "31e4b512",
   "metadata": {
    "execution": {
     "iopub.execute_input": "2025-08-01T06:01:09.029509Z",
     "iopub.status.busy": "2025-08-01T06:01:09.029204Z",
     "iopub.status.idle": "2025-08-01T06:01:09.033787Z",
     "shell.execute_reply": "2025-08-01T06:01:09.032929Z"
    },
    "papermill": {
     "duration": 0.014999,
     "end_time": "2025-08-01T06:01:09.035090",
     "exception": false,
     "start_time": "2025-08-01T06:01:09.020091",
     "status": "completed"
    },
    "tags": []
   },
   "outputs": [],
   "source": [
    "def should_hit(dealer_total, player_total, player_low_aces, player_high_aces):\n",
    "    \"\"\"Return True if the player should hit (request another card) given the current game\n",
    "    state, or False if the player should stay.\n",
    "    When calculating a hand's total value, we count aces as \"high\" (with value 11) if doing so\n",
    "    doesn't bring the total above 21, otherwise we count them as low (with value 1). \n",
    "    For example, if the player's hand is {A, A, A, 7}, we will count it as 11 + 1 + 1 + 7,\n",
    "    and therefore set player_total=20, player_low_aces=2, player_high_aces=1.\n",
    "    \"\"\"\n",
    "    return False"
   ]
  },
  {
   "cell_type": "markdown",
   "id": "ee312d40",
   "metadata": {
    "papermill": {
     "duration": 0.007759,
     "end_time": "2025-08-01T06:01:09.051026",
     "exception": false,
     "start_time": "2025-08-01T06:01:09.043267",
     "status": "completed"
    },
    "tags": []
   },
   "source": [
    "This very conservative agent *always* sticks with the hand of two cards that they're dealt.\n",
    "\n",
    "We'll be simulating games between your player agent and our own dealer agent by calling your function.\n",
    "\n",
    "Try running the function below to see an example of a simulated game:"
   ]
  },
  {
   "cell_type": "markdown",
   "id": "805ce867",
   "metadata": {
    "papermill": {
     "duration": 0.00774,
     "end_time": "2025-08-01T06:01:09.090367",
     "exception": false,
     "start_time": "2025-08-01T06:01:09.082627",
     "status": "completed"
    },
    "tags": []
   },
   "source": [
    "The real test of your agent's mettle is their average win rate over many games. Try calling the function below to simulate 50000 games of blackjack (it may take a couple seconds):"
   ]
  },
  {
   "cell_type": "code",
   "execution_count": 46,
   "id": "e3e80956",
   "metadata": {
    "execution": {
     "iopub.execute_input": "2025-08-01T06:01:09.108567Z",
     "iopub.status.busy": "2025-08-01T06:01:09.108248Z",
     "iopub.status.idle": "2025-08-01T06:01:10.032337Z",
     "shell.execute_reply": "2025-08-01T06:01:10.031378Z"
    },
    "papermill": {
     "duration": 0.935015,
     "end_time": "2025-08-01T06:01:10.033784",
     "exception": false,
     "start_time": "2025-08-01T06:01:09.098769",
     "status": "completed"
    },
    "tags": []
   },
   "outputs": [
    {
     "ename": "NameError",
     "evalue": "name 'q7' is not defined",
     "output_type": "error",
     "traceback": [
      "\u001b[0;31m---------------------------------------------------------------------------\u001b[0m",
      "\u001b[0;31mNameError\u001b[0m                                 Traceback (most recent call last)",
      "Cell \u001b[0;32mIn[46], line 1\u001b[0m\n\u001b[0;32m----> 1\u001b[0m q7\u001b[38;5;241m.\u001b[39msimulate(n_games\u001b[38;5;241m=\u001b[39m\u001b[38;5;241m50000\u001b[39m)\n",
      "\u001b[0;31mNameError\u001b[0m: name 'q7' is not defined"
     ]
    }
   ],
   "source": [
    "q7.simulate(n_games=50000)"
   ]
  },
  {
   "cell_type": "markdown",
   "id": "7531ca4f",
   "metadata": {
    "papermill": {
     "duration": 0.007944,
     "end_time": "2025-08-01T06:01:10.050215",
     "exception": false,
     "start_time": "2025-08-01T06:01:10.042271",
     "status": "completed"
    },
    "tags": []
   },
   "source": [
    "Our dumb agent that completely ignores the game state still manages to win shockingly often!\n",
    "\n",
    "Try adding some more smarts to the `should_hit` function and see how it affects the results."
   ]
  },
  {
   "cell_type": "code",
   "execution_count": null,
   "id": "c6f2a9e9",
   "metadata": {
    "execution": {
     "iopub.execute_input": "2025-08-01T06:01:10.067451Z",
     "iopub.status.busy": "2025-08-01T06:01:10.067127Z",
     "iopub.status.idle": "2025-08-01T06:01:10.930305Z",
     "shell.execute_reply": "2025-08-01T06:01:10.929407Z"
    },
    "papermill": {
     "duration": 0.873497,
     "end_time": "2025-08-01T06:01:10.931732",
     "exception": false,
     "start_time": "2025-08-01T06:01:10.058235",
     "status": "completed"
    },
    "tags": []
   },
   "outputs": [
    {
     "name": "stdout",
     "output_type": "stream",
     "text": [
      "Player won 18923 out of 50000 games (win rate = 37.8%)\n"
     ]
    }
   ],
   "source": [
    "def should_hit(dealer_total, player_total, player_low_aces, player_high_aces):\n",
    "    \"\"\"Return True if the player should hit (request another card) given the current game\n",
    "    state, or False if the player should stay.\n",
    "    When calculating a hand's total value, we count aces as \"high\" (with value 11) if doing so\n",
    "    doesn't bring the total above 21, otherwise we count them as low (with value 1). \n",
    "    For example, if the player's hand is {A, A, A, 7}, we will count it as 11 + 1 + 1 + 7,\n",
    "    and therefore set player_total=20, player_low_aces=2, player_high_aces=1.\n",
    "    \"\"\"\n",
    "    return False\n",
    "\n",
    "q7.simulate(n_games=50000)"
   ]
  },
  {
   "cell_type": "markdown",
   "id": "a04c05d9",
   "metadata": {
    "papermill": {
     "duration": 0.008035,
     "end_time": "2025-08-01T06:01:10.948076",
     "exception": false,
     "start_time": "2025-08-01T06:01:10.940041",
     "status": "completed"
    },
    "tags": []
   },
   "source": [
    "# Keep Going\n",
    "\n",
    "Learn about **[lists and tuples](https://www.kaggle.com/colinmorris/lists)** to handle multiple items of data in a systematic way."
   ]
  },
  {
   "cell_type": "markdown",
   "id": "a203e8f1",
   "metadata": {
    "papermill": {
     "duration": 0.008179,
     "end_time": "2025-08-01T06:01:10.964784",
     "exception": false,
     "start_time": "2025-08-01T06:01:10.956605",
     "status": "completed"
    },
    "tags": []
   },
   "source": [
    "---\n",
    "\n",
    "\n",
    "\n",
    "\n",
    "*Have questions or comments? Visit the [course discussion forum](https://www.kaggle.com/learn/python/discussion) to chat with other learners.*"
   ]
  }
 ],
 "metadata": {
  "kaggle": {
   "accelerator": "none",
   "dataSources": [],
   "isGpuEnabled": false,
   "isInternetEnabled": false,
   "language": "python",
   "sourceType": "notebook"
  },
  "kernelspec": {
   "display_name": "base",
   "language": "python",
   "name": "python3"
  },
  "language_info": {
   "codemirror_mode": {
    "name": "ipython",
    "version": 3
   },
   "file_extension": ".py",
   "mimetype": "text/x-python",
   "name": "python",
   "nbconvert_exporter": "python",
   "pygments_lexer": "ipython3",
   "version": "3.13.5"
  },
  "learntools_metadata": {
   "lesson_index": 2,
   "type": "exercise"
  },
  "papermill": {
   "default_parameters": {},
   "duration": 9.910936,
   "end_time": "2025-08-01T06:01:11.493267",
   "environment_variables": {},
   "exception": null,
   "input_path": "__notebook__.ipynb",
   "output_path": "__notebook__.ipynb",
   "parameters": {},
   "start_time": "2025-08-01T06:01:01.582331",
   "version": "2.6.0"
  }
 },
 "nbformat": 4,
 "nbformat_minor": 5
}
