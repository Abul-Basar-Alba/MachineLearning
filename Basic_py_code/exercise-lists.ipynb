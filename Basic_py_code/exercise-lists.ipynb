{
 "cells": [
  {
   "cell_type": "markdown",
   "id": "ea2f6a8d",
   "metadata": {
    "papermill": {
     "duration": 0.003376,
     "end_time": "2025-08-01T06:06:25.473296",
     "exception": false,
     "start_time": "2025-08-01T06:06:25.469920",
     "status": "completed"
    },
    "tags": []
   },
   "source": [
    "Things get more interesting with lists. You'll apply your new knowledge to solve the questions below. Remember to run the following cell first."
   ]
  },
  {
   "cell_type": "markdown",
   "id": "6b6d6e48",
   "metadata": {
    "papermill": {
     "duration": 0.003422,
     "end_time": "2025-08-01T06:06:27.788544",
     "exception": false,
     "start_time": "2025-08-01T06:06:27.785122",
     "status": "completed"
    },
    "tags": []
   },
   "source": [
    "# 1.\n",
    "\n",
    "Complete the function below according to its docstring."
   ]
  },
  {
   "cell_type": "code",
   "execution_count": 34,
   "id": "e1bd9578",
   "metadata": {
    "execution": {
     "iopub.execute_input": "2025-08-01T06:06:27.797706Z",
     "iopub.status.busy": "2025-08-01T06:06:27.797107Z",
     "iopub.status.idle": "2025-08-01T06:06:27.806389Z",
     "shell.execute_reply": "2025-08-01T06:06:27.805460Z"
    },
    "papermill": {
     "duration": 0.015938,
     "end_time": "2025-08-01T06:06:27.808114",
     "exception": false,
     "start_time": "2025-08-01T06:06:27.792176",
     "status": "completed"
    },
    "tags": []
   },
   "outputs": [],
   "source": [
    "def select_second(L):\n",
    "    if len(L) < 2:\n",
    "        return None\n",
    "    return L[1]\n"
   ]
  },
  {
   "cell_type": "code",
   "execution_count": 35,
   "id": "8599bc02",
   "metadata": {
    "execution": {
     "iopub.execute_input": "2025-08-01T06:06:27.817498Z",
     "iopub.status.busy": "2025-08-01T06:06:27.817074Z",
     "iopub.status.idle": "2025-08-01T06:06:27.821860Z",
     "shell.execute_reply": "2025-08-01T06:06:27.820726Z"
    },
    "papermill": {
     "duration": 0.011328,
     "end_time": "2025-08-01T06:06:27.823525",
     "exception": false,
     "start_time": "2025-08-01T06:06:27.812197",
     "status": "completed"
    },
    "tags": []
   },
   "outputs": [],
   "source": [
    "#q1.hint()\n",
    "#q1.solution()"
   ]
  },
  {
   "cell_type": "markdown",
   "id": "4fdf24e0",
   "metadata": {
    "papermill": {
     "duration": 0.003901,
     "end_time": "2025-08-01T06:06:27.831425",
     "exception": false,
     "start_time": "2025-08-01T06:06:27.827524",
     "status": "completed"
    },
    "tags": []
   },
   "source": [
    "# 2.\n",
    "\n",
    "You are analyzing sports teams.  Members of each team are stored in a list. The Coach is the first name in the list, the captain is the second name in the list, and other players are listed after that. \n",
    "These lists are stored in another list, which starts with the best team and proceeds through the list to the worst team last.  Complete the function below to select the **captain** of the worst team."
   ]
  },
  {
   "cell_type": "code",
   "execution_count": 36,
   "id": "7c7f7ec4",
   "metadata": {
    "execution": {
     "iopub.execute_input": "2025-08-01T06:06:27.840990Z",
     "iopub.status.busy": "2025-08-01T06:06:27.840632Z",
     "iopub.status.idle": "2025-08-01T06:06:27.849159Z",
     "shell.execute_reply": "2025-08-01T06:06:27.848108Z"
    },
    "papermill": {
     "duration": 0.01551,
     "end_time": "2025-08-01T06:06:27.850869",
     "exception": false,
     "start_time": "2025-08-01T06:06:27.835359",
     "status": "completed"
    },
    "tags": []
   },
   "outputs": [],
   "source": [
    "def losing_team_captain(teams):\n",
    "    return teams[-1][1]\n"
   ]
  },
  {
   "cell_type": "code",
   "execution_count": 37,
   "id": "a7a69207",
   "metadata": {
    "execution": {
     "iopub.execute_input": "2025-08-01T06:06:27.860264Z",
     "iopub.status.busy": "2025-08-01T06:06:27.859918Z",
     "iopub.status.idle": "2025-08-01T06:06:27.864290Z",
     "shell.execute_reply": "2025-08-01T06:06:27.863501Z"
    },
    "papermill": {
     "duration": 0.011023,
     "end_time": "2025-08-01T06:06:27.866057",
     "exception": false,
     "start_time": "2025-08-01T06:06:27.855034",
     "status": "completed"
    },
    "tags": []
   },
   "outputs": [],
   "source": [
    "#q2.hint()\n",
    "#q2.solution()"
   ]
  },
  {
   "cell_type": "markdown",
   "id": "2c7046b3",
   "metadata": {
    "papermill": {
     "duration": 0.003729,
     "end_time": "2025-08-01T06:06:27.875390",
     "exception": false,
     "start_time": "2025-08-01T06:06:27.871661",
     "status": "completed"
    },
    "tags": []
   },
   "source": [
    "# 3.\n",
    "\n",
    "The next iteration of Mario Kart will feature an extra-infuriating new item, the *Purple Shell*. When used, it warps the last place racer into first place and the first place racer into last place. Complete the function below to implement the Purple Shell's effect."
   ]
  },
  {
   "cell_type": "code",
   "execution_count": 38,
   "id": "f084e9d5",
   "metadata": {
    "execution": {
     "iopub.execute_input": "2025-08-01T06:06:27.886125Z",
     "iopub.status.busy": "2025-08-01T06:06:27.884946Z",
     "iopub.status.idle": "2025-08-01T06:06:27.894061Z",
     "shell.execute_reply": "2025-08-01T06:06:27.892867Z"
    },
    "papermill": {
     "duration": 0.016653,
     "end_time": "2025-08-01T06:06:27.895926",
     "exception": false,
     "start_time": "2025-08-01T06:06:27.879273",
     "status": "completed"
    },
    "tags": []
   },
   "outputs": [],
   "source": [
    "def purple_shell(racers):\n",
    "    # One slick way to do the swap is x[0], x[-1] = x[-1], x[0].\n",
    "    temp = racers[0]\n",
    "    racers[0] = racers[-1]\n",
    "    racers[-1] = temp\n",
    "\n"
   ]
  },
  {
   "cell_type": "code",
   "execution_count": 39,
   "id": "c041e7a2",
   "metadata": {
    "execution": {
     "iopub.execute_input": "2025-08-01T06:06:27.907078Z",
     "iopub.status.busy": "2025-08-01T06:06:27.905747Z",
     "iopub.status.idle": "2025-08-01T06:06:27.911533Z",
     "shell.execute_reply": "2025-08-01T06:06:27.910140Z"
    },
    "papermill": {
     "duration": 0.013097,
     "end_time": "2025-08-01T06:06:27.913485",
     "exception": false,
     "start_time": "2025-08-01T06:06:27.900388",
     "status": "completed"
    },
    "tags": []
   },
   "outputs": [],
   "source": [
    "#q3.hint()\n",
    "#q3.solution()"
   ]
  },
  {
   "cell_type": "markdown",
   "id": "5cb3694e",
   "metadata": {
    "papermill": {
     "duration": 0.004305,
     "end_time": "2025-08-01T06:06:27.922723",
     "exception": false,
     "start_time": "2025-08-01T06:06:27.918418",
     "status": "completed"
    },
    "tags": []
   },
   "source": [
    "# 4.\n",
    "\n",
    "What are the lengths of the following lists? Fill in the variable `lengths` with your predictions. (Try to make a prediction for each list *without* just calling `len()` on it.)"
   ]
  },
  {
   "cell_type": "code",
   "execution_count": 40,
   "id": "1d62cbce",
   "metadata": {
    "execution": {
     "iopub.execute_input": "2025-08-01T06:06:27.933518Z",
     "iopub.status.busy": "2025-08-01T06:06:27.933083Z",
     "iopub.status.idle": "2025-08-01T06:06:27.942993Z",
     "shell.execute_reply": "2025-08-01T06:06:27.941856Z"
    },
    "papermill": {
     "duration": 0.017906,
     "end_time": "2025-08-01T06:06:27.944942",
     "exception": false,
     "start_time": "2025-08-01T06:06:27.927036",
     "status": "completed"
    },
    "tags": []
   },
   "outputs": [],
   "source": [
    "a = [1, 2, 3]         # length = 3\n",
    "b = [1, [2, 3]]       # length = 2 (second item is a sublist, but still one item)\n",
    "c = []                # length = 0 (empty list)\n",
    "d = [1, 2, 3][1:]     # [2, 3], length = 2\n",
    "\n",
    "lengths = [3, 2, 0, 2]\n",
    "\n",
    "\n",
    "# Check your answer\n",
    "#q4.check()"
   ]
  },
  {
   "cell_type": "code",
   "execution_count": 41,
   "id": "30db65a4",
   "metadata": {
    "execution": {
     "iopub.execute_input": "2025-08-01T06:06:27.956043Z",
     "iopub.status.busy": "2025-08-01T06:06:27.955680Z",
     "iopub.status.idle": "2025-08-01T06:06:27.964464Z",
     "shell.execute_reply": "2025-08-01T06:06:27.963027Z"
    },
    "papermill": {
     "duration": 0.016685,
     "end_time": "2025-08-01T06:06:27.966424",
     "exception": false,
     "start_time": "2025-08-01T06:06:27.949739",
     "status": "completed"
    },
    "tags": []
   },
   "outputs": [],
   "source": [
    "# line below provides some explanation\n",
    "#q4.solution()"
   ]
  },
  {
   "cell_type": "markdown",
   "id": "5cfd0c53",
   "metadata": {
    "papermill": {
     "duration": 0.005077,
     "end_time": "2025-08-01T06:06:27.976221",
     "exception": false,
     "start_time": "2025-08-01T06:06:27.971144",
     "status": "completed"
    },
    "tags": []
   },
   "source": [
    "# 5. <span title=\"A bit spicy\" style=\"color: darkgreen \">🌶️</span>\n",
    "\n",
    "We're using lists to record people who attended our party and what order they arrived in. For example, the following list represents a party with 7 guests, in which Adela showed up first and Ford was the last to arrive:\n",
    "\n",
    "    party_attendees = ['Adela', 'Fleda', 'Owen', 'May', 'Mona', 'Gilbert', 'Ford']\n",
    "\n",
    "A guest is considered 'fashionably late' if they arrived after at least half of the party's guests. However, they must not be the very last guest (that's taking it too far). In the above example, Mona and Gilbert are the only guests who were fashionably late.\n",
    "\n",
    "Complete the function below which takes a list of party attendees as well as a person, and tells us whether that person is fashionably late."
   ]
  },
  {
   "cell_type": "code",
   "execution_count": 42,
   "id": "83bbc6a4",
   "metadata": {
    "execution": {
     "iopub.execute_input": "2025-08-01T06:06:27.987105Z",
     "iopub.status.busy": "2025-08-01T06:06:27.986213Z",
     "iopub.status.idle": "2025-08-01T06:06:27.994205Z",
     "shell.execute_reply": "2025-08-01T06:06:27.993413Z"
    },
    "papermill": {
     "duration": 0.014716,
     "end_time": "2025-08-01T06:06:27.995473",
     "exception": false,
     "start_time": "2025-08-01T06:06:27.980757",
     "status": "completed"
    },
    "tags": []
   },
   "outputs": [],
   "source": [
    "def fashionably_late(arrivals, name):\n",
    "    order = arrivals.index(name)\n",
    "    return order >= len(arrivals) / 2 and order != len(arrivals) - 1\n",
    "\n",
    "# Check your answer\n",
    "#q5.check()"
   ]
  },
  {
   "cell_type": "code",
   "execution_count": 43,
   "id": "b1deaf93",
   "metadata": {
    "execution": {
     "iopub.execute_input": "2025-08-01T06:06:28.005857Z",
     "iopub.status.busy": "2025-08-01T06:06:28.005544Z",
     "iopub.status.idle": "2025-08-01T06:06:28.009479Z",
     "shell.execute_reply": "2025-08-01T06:06:28.008729Z"
    },
    "papermill": {
     "duration": 0.010829,
     "end_time": "2025-08-01T06:06:28.010923",
     "exception": false,
     "start_time": "2025-08-01T06:06:28.000094",
     "status": "completed"
    },
    "tags": []
   },
   "outputs": [],
   "source": [
    "#q5.hint()\n",
    "#q5.solution()"
   ]
  }
 ],
 "metadata": {
  "kaggle": {
   "accelerator": "none",
   "dataSources": [],
   "isGpuEnabled": false,
   "isInternetEnabled": false,
   "language": "python",
   "sourceType": "notebook"
  },
  "kernelspec": {
   "display_name": "base",
   "language": "python",
   "name": "python3"
  },
  "language_info": {
   "codemirror_mode": {
    "name": "ipython",
    "version": 3
   },
   "file_extension": ".py",
   "mimetype": "text/x-python",
   "name": "python",
   "nbconvert_exporter": "python",
   "pygments_lexer": "ipython3",
   "version": "3.13.5"
  },
  "learntools_metadata": {
   "lesson_index": 3,
   "type": "exercise"
  },
  "papermill": {
   "default_parameters": {},
   "duration": 8.438124,
   "end_time": "2025-08-01T06:06:28.554280",
   "environment_variables": {},
   "exception": null,
   "input_path": "__notebook__.ipynb",
   "output_path": "__notebook__.ipynb",
   "parameters": {},
   "start_time": "2025-08-01T06:06:20.116156",
   "version": "2.6.0"
  }
 },
 "nbformat": 4,
 "nbformat_minor": 5
}
