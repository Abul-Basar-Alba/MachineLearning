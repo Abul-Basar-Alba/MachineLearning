{
 "cells": [
  {
   "cell_type": "markdown",
   "id": "db516ce1",
   "metadata": {
    "papermill": {
     "duration": 0.005524,
     "end_time": "2025-08-01T05:38:13.363091",
     "exception": false,
     "start_time": "2025-08-01T05:38:13.357567",
     "status": "completed"
    },
    "tags": []
   },
   "source": [
    "**This notebook is an exercise in the [Python](https://www.kaggle.com/learn/python) course.  You can reference the tutorial at [this link](https://www.kaggle.com/colinmorris/hello-python).**\n",
    "\n",
    "---\n"
   ]
  },
  {
   "cell_type": "markdown",
   "id": "fa342362",
   "metadata": {
    "papermill": {
     "duration": 0.004284,
     "end_time": "2025-08-01T05:38:13.372157",
     "exception": false,
     "start_time": "2025-08-01T05:38:13.367873",
     "status": "completed"
    },
    "tags": []
   },
   "source": [
    "Welcome to your first set of Python coding problems.  If this is your first time using Kaggle Notebooks, welcome! \n",
    "\n",
    "Notebooks are composed of blocks (called \"cells\") of text and code. Each of these is editable, though you'll mainly be editing the code cells to answer some questions.\n",
    "\n",
    "To get started, try running the code cell below (by pressing the ► button, or clicking on the cell and pressing ctrl+enter on your keyboard)."
   ]
  },
  {
   "cell_type": "code",
   "execution_count": 1,
   "id": "5e21e9c0",
   "metadata": {
    "execution": {
     "iopub.execute_input": "2025-08-01T05:38:13.382797Z",
     "iopub.status.busy": "2025-08-01T05:38:13.382473Z",
     "iopub.status.idle": "2025-08-01T05:38:13.391832Z",
     "shell.execute_reply": "2025-08-01T05:38:13.390695Z"
    },
    "papermill": {
     "duration": 0.016397,
     "end_time": "2025-08-01T05:38:13.393289",
     "exception": false,
     "start_time": "2025-08-01T05:38:13.376892",
     "status": "completed"
    },
    "tags": []
   },
   "outputs": [
    {
     "name": "stdout",
     "output_type": "stream",
     "text": [
      "You've successfully run some Python code\n",
      "Congratulations!\n"
     ]
    }
   ],
   "source": [
    "print(\"You've successfully run some Python code\")\n",
    "print(\"Congratulations!\")"
   ]
  },
  {
   "cell_type": "markdown",
   "id": "9d50cf14",
   "metadata": {
    "papermill": {
     "duration": 0.004461,
     "end_time": "2025-08-01T05:38:13.402684",
     "exception": false,
     "start_time": "2025-08-01T05:38:13.398223",
     "status": "completed"
    },
    "tags": []
   },
   "source": [
    "Try adding another line of code in the cell above and re-running it. \n",
    "\n",
    "Now let's get a little fancier:  Add a new code cell by clicking on an existing code cell, hitting the escape key, and then hitting the `a` or `b` key.  The `a` key will add a cell above the current cell, and `b` adds a cell below.\n",
    "\n",
    "Great! Now you know how to use Notebooks.\n",
    "\n",
    "Each hands-on exercise starts by setting up our feedback and code checking mechanism. Run the code cell below to do that. Then you'll be ready to move on to question 0."
   ]
  },
  {
   "cell_type": "code",
   "execution_count": 2,
   "id": "0b5e70b6",
   "metadata": {
    "_kg_hide-input": true,
    "_kg_hide-output": true,
    "execution": {
     "iopub.execute_input": "2025-08-01T05:38:13.413604Z",
     "iopub.status.busy": "2025-08-01T05:38:13.412912Z",
     "iopub.status.idle": "2025-08-01T05:38:15.334543Z",
     "shell.execute_reply": "2025-08-01T05:38:15.333626Z"
    },
    "papermill": {
     "duration": 1.928588,
     "end_time": "2025-08-01T05:38:15.335987",
     "exception": false,
     "start_time": "2025-08-01T05:38:13.407399",
     "status": "completed"
    },
    "tags": []
   },
   "outputs": [
    {
     "name": "stdout",
     "output_type": "stream",
     "text": [
      "Setup complete! You're ready to start question 0.\n"
     ]
    }
   ],
   "source": [
    "from learntools.core import binder; binder.bind(globals())\n",
    "from learntools.python.ex1 import *\n",
    "print(\"Setup complete! You're ready to start question 0.\")"
   ]
  },
  {
   "cell_type": "markdown",
   "id": "558628d1",
   "metadata": {
    "papermill": {
     "duration": 0.004599,
     "end_time": "2025-08-01T05:38:15.345646",
     "exception": false,
     "start_time": "2025-08-01T05:38:15.341047",
     "status": "completed"
    },
    "tags": []
   },
   "source": [
    "# 0.\n",
    "\n",
    "*This is a silly question intended as an introduction to the format we use for hands-on exercises throughout all Kaggle courses.*\n",
    "\n",
    "**What is your favorite color? **\n",
    "\n",
    "To complete this question, create a variable called `color` in the cell below with an appropriate value. The function call `q0.check()` (which we've already provided in the cell below) will check your answer."
   ]
  },
  {
   "cell_type": "code",
   "execution_count": 3,
   "id": "49b00aad",
   "metadata": {
    "execution": {
     "iopub.execute_input": "2025-08-01T05:38:15.357996Z",
     "iopub.status.busy": "2025-08-01T05:38:15.357099Z",
     "iopub.status.idle": "2025-08-01T05:38:15.365020Z",
     "shell.execute_reply": "2025-08-01T05:38:15.364266Z"
    },
    "papermill": {
     "duration": 0.015729,
     "end_time": "2025-08-01T05:38:15.366400",
     "exception": false,
     "start_time": "2025-08-01T05:38:15.350671",
     "status": "completed"
    },
    "tags": []
   },
   "outputs": [
    {
     "data": {
      "application/javascript": [
       "parent.postMessage({\"jupyterEvent\": \"custom.exercise_interaction\", \"data\": {\"outcomeType\": 1, \"valueTowardsCompletion\": 0.25, \"interactionType\": 1, \"questionType\": 2, \"questionId\": \"0_ExerciseFormatTutorial\", \"learnToolsVersion\": \"0.3.5\", \"failureMessage\": \"\", \"exceptionClass\": \"\", \"trace\": \"\"}}, \"*\")"
      ],
      "text/plain": [
       "<IPython.core.display.Javascript object>"
      ]
     },
     "metadata": {},
     "output_type": "display_data"
    },
    {
     "data": {
      "text/markdown": [
       "<span style=\"color:#33cc33\">Correct:</span> What?! You got it right without needing a hint or anything? Drats. Well hey, you should still continue to the next step to get some practice asking for a hint and checking solutions. (Even though you obviously don't need any help here.)"
      ],
      "text/plain": [
       "Correct: What?! You got it right without needing a hint or anything? Drats. Well hey, you should still continue to the next step to get some practice asking for a hint and checking solutions. (Even though you obviously don't need any help here.)"
      ]
     },
     "metadata": {},
     "output_type": "display_data"
    }
   ],
   "source": [
    "color = \"blue\"\n",
    "\n",
    "# create a variable called color with an appropriate value on the line below\n",
    "# (Remember, strings in Python must be enclosed in 'single' or \"double\" quotes)\n",
    "____\n",
    "\n",
    "# Check your answer\n",
    "q0.check()"
   ]
  },
  {
   "cell_type": "markdown",
   "id": "045baf11",
   "metadata": {
    "papermill": {
     "duration": 0.004716,
     "end_time": "2025-08-01T05:38:15.376140",
     "exception": false,
     "start_time": "2025-08-01T05:38:15.371424",
     "status": "completed"
    },
    "tags": []
   },
   "source": [
    "Didn't get the right answer? How do you not even know your own favorite color?!\n",
    "\n",
    "Delete the `#` in the line below to make one of the lines run. You can choose between getting a hint or the full answer by choosing which line to remove the `#` from. \n",
    "\n",
    "Removing the `#` is called uncommenting, because it changes that line from a \"comment\" which Python doesn't run to code, which Python does run."
   ]
  },
  {
   "cell_type": "code",
   "execution_count": 4,
   "id": "0d9a68ef",
   "metadata": {
    "execution": {
     "iopub.execute_input": "2025-08-01T05:38:15.387509Z",
     "iopub.status.busy": "2025-08-01T05:38:15.386616Z",
     "iopub.status.idle": "2025-08-01T05:38:15.390675Z",
     "shell.execute_reply": "2025-08-01T05:38:15.389829Z"
    },
    "papermill": {
     "duration": 0.011205,
     "end_time": "2025-08-01T05:38:15.392119",
     "exception": false,
     "start_time": "2025-08-01T05:38:15.380914",
     "status": "completed"
    },
    "tags": []
   },
   "outputs": [],
   "source": [
    "#q0.hint()\n",
    "#q0.solution()"
   ]
  },
  {
   "cell_type": "markdown",
   "id": "0d79ab58",
   "metadata": {
    "papermill": {
     "duration": 0.004749,
     "end_time": "2025-08-01T05:38:15.402149",
     "exception": false,
     "start_time": "2025-08-01T05:38:15.397400",
     "status": "completed"
    },
    "tags": []
   },
   "source": [
    "The upcoming questions work the same way. The only thing that will change are the question numbers. For the next question, you'll call `q1.check()`, `q1.hint()`, `q1.solution()`, for question 2, you'll call `q2.check()`, and so on."
   ]
  },
  {
   "cell_type": "markdown",
   "id": "0a652d53",
   "metadata": {
    "papermill": {
     "duration": 0.004504,
     "end_time": "2025-08-01T05:38:15.411397",
     "exception": false,
     "start_time": "2025-08-01T05:38:15.406893",
     "status": "completed"
    },
    "tags": []
   },
   "source": [
    "<hr/>\n",
    "\n",
    "# 1.\n",
    "\n",
    "Complete the code below. In case it's helpful, here is the table of available arithmetic operations:\n",
    "\n",
    "\n",
    "\n",
    "| Operator     | Name           | Description                                            |\n",
    "|--------------|----------------|--------------------------------------------------------|\n",
    "| ``a + b``    | Addition       | Sum of ``a`` and ``b``                                 |\n",
    "| ``a - b``    | Subtraction    | Difference of ``a`` and ``b``                          |\n",
    "| ``a * b``    | Multiplication | Product of ``a`` and ``b``                             |\n",
    "| ``a / b``    | True division  | Quotient of ``a`` and ``b``                            |\n",
    "| ``a // b``   | Floor division | Quotient of ``a`` and ``b``, removing fractional parts |\n",
    "| ``a % b``    | Modulus        | Integer remainder after division of ``a`` by ``b``     |\n",
    "| ``a ** b``   | Exponentiation | ``a`` raised to the power of ``b``                     |\n",
    "| ``-a``       | Negation       | The negative of ``a``                                  |\n",
    "\n",
    "<span style=\"display:none\"></span>\n"
   ]
  },
  {
   "cell_type": "code",
   "execution_count": 5,
   "id": "4e8ef1a4",
   "metadata": {
    "execution": {
     "iopub.execute_input": "2025-08-01T05:38:15.422786Z",
     "iopub.status.busy": "2025-08-01T05:38:15.421912Z",
     "iopub.status.idle": "2025-08-01T05:38:15.429374Z",
     "shell.execute_reply": "2025-08-01T05:38:15.428601Z"
    },
    "papermill": {
     "duration": 0.014506,
     "end_time": "2025-08-01T05:38:15.430679",
     "exception": false,
     "start_time": "2025-08-01T05:38:15.416173",
     "status": "completed"
    },
    "tags": []
   },
   "outputs": [
    {
     "data": {
      "application/javascript": [
       "parent.postMessage({\"jupyterEvent\": \"custom.exercise_interaction\", \"data\": {\"outcomeType\": 1, \"valueTowardsCompletion\": 0.25, \"interactionType\": 1, \"questionType\": 1, \"questionId\": \"1_CircleArea\", \"learnToolsVersion\": \"0.3.5\", \"failureMessage\": \"\", \"exceptionClass\": \"\", \"trace\": \"\"}}, \"*\")"
      ],
      "text/plain": [
       "<IPython.core.display.Javascript object>"
      ]
     },
     "metadata": {},
     "output_type": "display_data"
    },
    {
     "data": {
      "text/markdown": [
       "<span style=\"color:#33cc33\">Correct</span>"
      ],
      "text/plain": [
       "Correct"
      ]
     },
     "metadata": {},
     "output_type": "display_data"
    }
   ],
   "source": [
    "pi = 3.14159 # approximate\n",
    "diameter = 3\n",
    "radius=diameter/2;\n",
    "area=pi*(radius*radius)\n",
    "# Create a variable called 'radius' equal to half the diameter\n",
    "____\n",
    "\n",
    "# Create a variable called 'area', using the formula for the area of a circle: pi times the radius squared\n",
    "____\n",
    "\n",
    "# Check your answer\n",
    "q1.check()"
   ]
  },
  {
   "cell_type": "code",
   "execution_count": 6,
   "id": "a3c9d1dc",
   "metadata": {
    "execution": {
     "iopub.execute_input": "2025-08-01T05:38:15.442622Z",
     "iopub.status.busy": "2025-08-01T05:38:15.442225Z",
     "iopub.status.idle": "2025-08-01T05:38:15.446361Z",
     "shell.execute_reply": "2025-08-01T05:38:15.445462Z"
    },
    "papermill": {
     "duration": 0.011817,
     "end_time": "2025-08-01T05:38:15.447898",
     "exception": false,
     "start_time": "2025-08-01T05:38:15.436081",
     "status": "completed"
    },
    "tags": []
   },
   "outputs": [],
   "source": [
    "# Uncomment and run the lines below if you need help.\n",
    "#q1.hint()\n",
    "#q1.solution()"
   ]
  },
  {
   "cell_type": "markdown",
   "id": "8f9cb612",
   "metadata": {
    "papermill": {
     "duration": 0.004794,
     "end_time": "2025-08-01T05:38:15.457945",
     "exception": false,
     "start_time": "2025-08-01T05:38:15.453151",
     "status": "completed"
    },
    "tags": []
   },
   "source": [
    "<hr/>\n",
    "\n",
    "# 2.\n",
    "\n",
    "Add code to the following cell to swap variables `a` and `b` (so that `a` refers to the object previously referred to by `b` and vice versa)."
   ]
  },
  {
   "cell_type": "code",
   "execution_count": 7,
   "id": "7744d0f7",
   "metadata": {
    "execution": {
     "iopub.execute_input": "2025-08-01T05:38:15.469099Z",
     "iopub.status.busy": "2025-08-01T05:38:15.468782Z",
     "iopub.status.idle": "2025-08-01T05:38:15.475977Z",
     "shell.execute_reply": "2025-08-01T05:38:15.475281Z"
    },
    "papermill": {
     "duration": 0.014362,
     "end_time": "2025-08-01T05:38:15.477303",
     "exception": false,
     "start_time": "2025-08-01T05:38:15.462941",
     "status": "completed"
    },
    "tags": []
   },
   "outputs": [
    {
     "data": {
      "application/javascript": [
       "parent.postMessage({\"jupyterEvent\": \"custom.exercise_interaction\", \"data\": {\"outcomeType\": 1, \"valueTowardsCompletion\": 0.25, \"interactionType\": 1, \"questionType\": 2, \"questionId\": \"2_VariableSwap\", \"learnToolsVersion\": \"0.3.5\", \"failureMessage\": \"\", \"exceptionClass\": \"\", \"trace\": \"\"}}, \"*\")"
      ],
      "text/plain": [
       "<IPython.core.display.Javascript object>"
      ]
     },
     "metadata": {},
     "output_type": "display_data"
    },
    {
     "data": {
      "text/markdown": [
       "<span style=\"color:#33cc33\">Correct:</span> \n",
       "\n",
       "The most straightforward solution is to use a third variable to temporarily store one of the old values. e.g.:\n",
       "\n",
       "    tmp = a\n",
       "    a = b\n",
       "    b = tmp\n",
       "\n",
       "If you've read lots of Python code, you might have seen the following trick to swap two variables in one line:\n",
       "\n",
       "    a, b = b, a\n",
       "\n",
       "We'll demystify this bit of Python magic later when we talk about *tuples*."
      ],
      "text/plain": [
       "Correct: \n",
       "\n",
       "The most straightforward solution is to use a third variable to temporarily store one of the old values. e.g.:\n",
       "\n",
       "    tmp = a\n",
       "    a = b\n",
       "    b = tmp\n",
       "\n",
       "If you've read lots of Python code, you might have seen the following trick to swap two variables in one line:\n",
       "\n",
       "    a, b = b, a\n",
       "\n",
       "We'll demystify this bit of Python magic later when we talk about *tuples*."
      ]
     },
     "metadata": {},
     "output_type": "display_data"
    }
   ],
   "source": [
    "########### Setup code - don't touch this part ######################\n",
    "a = [1, 2, 3]\n",
    "b = [3, 2, 1]\n",
    "q2.store_original_ids()\n",
    "######################################################################\n",
    "\n",
    "# Your code goes here. Swap the values to which a and b refer.\n",
    "a, b = b, a\n",
    "\n",
    "######################################################################\n",
    "\n",
    "# Check your answer\n",
    "q2.check()\n"
   ]
  },
  {
   "cell_type": "code",
   "execution_count": 8,
   "id": "993e0460",
   "metadata": {
    "execution": {
     "iopub.execute_input": "2025-08-01T05:38:15.488971Z",
     "iopub.status.busy": "2025-08-01T05:38:15.488667Z",
     "iopub.status.idle": "2025-08-01T05:38:15.492522Z",
     "shell.execute_reply": "2025-08-01T05:38:15.491635Z"
    },
    "papermill": {
     "duration": 0.011237,
     "end_time": "2025-08-01T05:38:15.493848",
     "exception": false,
     "start_time": "2025-08-01T05:38:15.482611",
     "status": "completed"
    },
    "tags": []
   },
   "outputs": [],
   "source": [
    "#q2.hint()"
   ]
  },
  {
   "cell_type": "code",
   "execution_count": 9,
   "id": "e476dc1d",
   "metadata": {
    "execution": {
     "iopub.execute_input": "2025-08-01T05:38:15.505916Z",
     "iopub.status.busy": "2025-08-01T05:38:15.505649Z",
     "iopub.status.idle": "2025-08-01T05:38:15.509433Z",
     "shell.execute_reply": "2025-08-01T05:38:15.508676Z"
    },
    "papermill": {
     "duration": 0.011403,
     "end_time": "2025-08-01T05:38:15.510748",
     "exception": false,
     "start_time": "2025-08-01T05:38:15.499345",
     "status": "completed"
    },
    "tags": []
   },
   "outputs": [],
   "source": [
    "#q2.solution()"
   ]
  },
  {
   "cell_type": "markdown",
   "id": "c53a7dd6",
   "metadata": {
    "papermill": {
     "duration": 0.005104,
     "end_time": "2025-08-01T05:38:15.521419",
     "exception": false,
     "start_time": "2025-08-01T05:38:15.516315",
     "status": "completed"
    },
    "tags": []
   },
   "source": [
    "<hr/>\n",
    "\n",
    "# 3a.\n",
    "\n",
    "Add parentheses to the following expression so that it evaluates to 1."
   ]
  },
  {
   "cell_type": "code",
   "execution_count": 10,
   "id": "eba4e30a",
   "metadata": {
    "execution": {
     "iopub.execute_input": "2025-08-01T05:38:15.533047Z",
     "iopub.status.busy": "2025-08-01T05:38:15.532732Z",
     "iopub.status.idle": "2025-08-01T05:38:15.537972Z",
     "shell.execute_reply": "2025-08-01T05:38:15.537192Z"
    },
    "papermill": {
     "duration": 0.012798,
     "end_time": "2025-08-01T05:38:15.539449",
     "exception": false,
     "start_time": "2025-08-01T05:38:15.526651",
     "status": "completed"
    },
    "tags": []
   },
   "outputs": [
    {
     "data": {
      "text/plain": [
       "4"
      ]
     },
     "execution_count": 10,
     "metadata": {},
     "output_type": "execute_result"
    }
   ],
   "source": [
    "5 - 3 // 2"
   ]
  },
  {
   "cell_type": "code",
   "execution_count": 11,
   "id": "f840cfec",
   "metadata": {
    "execution": {
     "iopub.execute_input": "2025-08-01T05:38:15.552298Z",
     "iopub.status.busy": "2025-08-01T05:38:15.551942Z",
     "iopub.status.idle": "2025-08-01T05:38:15.555805Z",
     "shell.execute_reply": "2025-08-01T05:38:15.554913Z"
    },
    "papermill": {
     "duration": 0.01224,
     "end_time": "2025-08-01T05:38:15.557190",
     "exception": false,
     "start_time": "2025-08-01T05:38:15.544950",
     "status": "completed"
    },
    "tags": []
   },
   "outputs": [],
   "source": [
    "#q3.a.hint()"
   ]
  },
  {
   "cell_type": "code",
   "execution_count": 12,
   "id": "2fec8ffd",
   "metadata": {
    "execution": {
     "iopub.execute_input": "2025-08-01T05:38:15.571035Z",
     "iopub.status.busy": "2025-08-01T05:38:15.570709Z",
     "iopub.status.idle": "2025-08-01T05:38:15.577965Z",
     "shell.execute_reply": "2025-08-01T05:38:15.577262Z"
    },
    "papermill": {
     "duration": 0.01628,
     "end_time": "2025-08-01T05:38:15.579147",
     "exception": false,
     "start_time": "2025-08-01T05:38:15.562867",
     "status": "completed"
    },
    "tags": []
   },
   "outputs": [
    {
     "data": {
      "application/javascript": [
       "parent.postMessage({\"jupyterEvent\": \"custom.exercise_interaction\", \"data\": {\"interactionType\": 3, \"questionType\": 4, \"questionId\": \"3.1_ArithmeticParensEasy\", \"learnToolsVersion\": \"0.3.5\", \"valueTowardsCompletion\": 0.0, \"failureMessage\": \"\", \"exceptionClass\": \"\", \"trace\": \"\", \"outcomeType\": 4}}, \"*\")"
      ],
      "text/plain": [
       "<IPython.core.display.Javascript object>"
      ]
     },
     "metadata": {},
     "output_type": "display_data"
    },
    {
     "data": {
      "text/markdown": [
       "<span style=\"color:#33cc99\">Solution:</span> \n",
       "```python\n",
       "(5 - 3) // 2\n",
       "```"
      ],
      "text/plain": [
       "Solution: \n",
       "```python\n",
       "(5 - 3) // 2\n",
       "```"
      ]
     },
     "metadata": {},
     "output_type": "display_data"
    }
   ],
   "source": [
    "# Check your answer (Run this code cell to receive credit!)\n",
    "q3.a.solution()"
   ]
  },
  {
   "cell_type": "markdown",
   "id": "de3d7f74",
   "metadata": {
    "papermill": {
     "duration": 0.005442,
     "end_time": "2025-08-01T05:38:15.590260",
     "exception": false,
     "start_time": "2025-08-01T05:38:15.584818",
     "status": "completed"
    },
    "tags": []
   },
   "source": [
    "# 3b.  <span title=\"A bit spicy\" style=\"color: darkgreen \">🌶️</span>\n",
    "\n",
    "<small>Questions, like this one, marked a spicy pepper are a bit harder.</small>\n",
    "\n",
    "Add parentheses to the following expression so that it evaluates to 0."
   ]
  },
  {
   "cell_type": "code",
   "execution_count": 13,
   "id": "a181c12c",
   "metadata": {
    "execution": {
     "iopub.execute_input": "2025-08-01T05:38:15.602221Z",
     "iopub.status.busy": "2025-08-01T05:38:15.601904Z",
     "iopub.status.idle": "2025-08-01T05:38:15.607097Z",
     "shell.execute_reply": "2025-08-01T05:38:15.606350Z"
    },
    "papermill": {
     "duration": 0.012776,
     "end_time": "2025-08-01T05:38:15.608485",
     "exception": false,
     "start_time": "2025-08-01T05:38:15.595709",
     "status": "completed"
    },
    "tags": []
   },
   "outputs": [
    {
     "data": {
      "text/plain": [
       "2"
      ]
     },
     "execution_count": 13,
     "metadata": {},
     "output_type": "execute_result"
    }
   ],
   "source": [
    "8 - 3 * 2 - 1 + 1"
   ]
  },
  {
   "cell_type": "code",
   "execution_count": 14,
   "id": "ae99ca6b",
   "metadata": {
    "execution": {
     "iopub.execute_input": "2025-08-01T05:38:15.621229Z",
     "iopub.status.busy": "2025-08-01T05:38:15.620910Z",
     "iopub.status.idle": "2025-08-01T05:38:15.624604Z",
     "shell.execute_reply": "2025-08-01T05:38:15.623902Z"
    },
    "papermill": {
     "duration": 0.011607,
     "end_time": "2025-08-01T05:38:15.625933",
     "exception": false,
     "start_time": "2025-08-01T05:38:15.614326",
     "status": "completed"
    },
    "tags": []
   },
   "outputs": [],
   "source": [
    "#q3.b.hint()"
   ]
  },
  {
   "cell_type": "code",
   "execution_count": 15,
   "id": "1378c3af",
   "metadata": {
    "execution": {
     "iopub.execute_input": "2025-08-01T05:38:15.639538Z",
     "iopub.status.busy": "2025-08-01T05:38:15.638983Z",
     "iopub.status.idle": "2025-08-01T05:38:15.645741Z",
     "shell.execute_reply": "2025-08-01T05:38:15.644848Z"
    },
    "papermill": {
     "duration": 0.014902,
     "end_time": "2025-08-01T05:38:15.647085",
     "exception": false,
     "start_time": "2025-08-01T05:38:15.632183",
     "status": "completed"
    },
    "tags": []
   },
   "outputs": [
    {
     "data": {
      "application/javascript": [
       "parent.postMessage({\"jupyterEvent\": \"custom.exercise_interaction\", \"data\": {\"interactionType\": 3, \"questionType\": 4, \"questionId\": \"3.2_ArithmeticParensHard\", \"learnToolsVersion\": \"0.3.5\", \"valueTowardsCompletion\": 0.0, \"failureMessage\": \"\", \"exceptionClass\": \"\", \"trace\": \"\", \"outcomeType\": 4}}, \"*\")"
      ],
      "text/plain": [
       "<IPython.core.display.Javascript object>"
      ]
     },
     "metadata": {},
     "output_type": "display_data"
    },
    {
     "data": {
      "text/markdown": [
       "<span style=\"color:#33cc99\">Solution:</span> `(8 - 3) * (2 - (1 + 1))` is one solution. There may be others."
      ],
      "text/plain": [
       "Solution: `(8 - 3) * (2 - (1 + 1))` is one solution. There may be others."
      ]
     },
     "metadata": {},
     "output_type": "display_data"
    }
   ],
   "source": [
    "# Check your answer (Run this code cell to receive credit!)\n",
    "q3.b.solution()"
   ]
  },
  {
   "cell_type": "markdown",
   "id": "5b4df9eb",
   "metadata": {
    "papermill": {
     "duration": 0.005551,
     "end_time": "2025-08-01T05:38:15.658913",
     "exception": false,
     "start_time": "2025-08-01T05:38:15.653362",
     "status": "completed"
    },
    "tags": []
   },
   "source": [
    "<hr/>\n",
    "\n",
    "# 4. \n",
    "Alice, Bob and Carol have agreed to pool their Halloween candy and split it evenly among themselves.\n",
    "For the sake of their friendship, any candies left over will be smashed. For example, if they collectively\n",
    "bring home 91 candies, they'll take 30 each and smash 1.\n",
    "\n",
    "Write an arithmetic expression below to calculate how many candies they must smash for a given haul."
   ]
  },
  {
   "cell_type": "code",
   "execution_count": 16,
   "id": "67aed2ed",
   "metadata": {
    "execution": {
     "iopub.execute_input": "2025-08-01T05:38:15.671984Z",
     "iopub.status.busy": "2025-08-01T05:38:15.671706Z",
     "iopub.status.idle": "2025-08-01T05:38:15.679242Z",
     "shell.execute_reply": "2025-08-01T05:38:15.678421Z"
    },
    "papermill": {
     "duration": 0.015794,
     "end_time": "2025-08-01T05:38:15.680580",
     "exception": false,
     "start_time": "2025-08-01T05:38:15.664786",
     "status": "completed"
    },
    "tags": []
   },
   "outputs": [
    {
     "data": {
      "application/javascript": [
       "parent.postMessage({\"jupyterEvent\": \"custom.exercise_interaction\", \"data\": {\"outcomeType\": 4, \"interactionType\": 1, \"questionType\": 1, \"questionId\": \"4_CandySplitting\", \"learnToolsVersion\": \"0.3.5\", \"valueTowardsCompletion\": 0.0, \"failureMessage\": \"\", \"exceptionClass\": \"\", \"trace\": \"\"}}, \"*\")"
      ],
      "text/plain": [
       "<IPython.core.display.Javascript object>"
      ]
     },
     "metadata": {},
     "output_type": "display_data"
    },
    {
     "data": {
      "text/markdown": [
       "<span style=\"color:#ccaa33\">Check:</span> When you've updated the starter code, `check()` will tell you whether your code is correct. You need to update the code that creates variable `to_smash`"
      ],
      "text/plain": [
       "Check: When you've updated the starter code, `check()` will tell you whether your code is correct. You need to update the code that creates variable `to_smash`"
      ]
     },
     "metadata": {},
     "output_type": "display_data"
    }
   ],
   "source": [
    "# Variables representing the number of candies collected by alice, bob, and carol\n",
    "alice_candies = 121\n",
    "bob_candies = 77\n",
    "carol_candies = 109\n",
    "\n",
    "# Your code goes here! Replace the right-hand side of this assignment with an expression\n",
    "# involving alice_candies, bob_candies, and carol_candies\n",
    "to_smash = -1\n",
    "\n",
    "# Check your answer\n",
    "q4.check()"
   ]
  },
  {
   "cell_type": "code",
   "execution_count": 17,
   "id": "c8918c28",
   "metadata": {
    "execution": {
     "iopub.execute_input": "2025-08-01T05:38:15.694258Z",
     "iopub.status.busy": "2025-08-01T05:38:15.693889Z",
     "iopub.status.idle": "2025-08-01T05:38:15.698352Z",
     "shell.execute_reply": "2025-08-01T05:38:15.697642Z"
    },
    "papermill": {
     "duration": 0.012806,
     "end_time": "2025-08-01T05:38:15.699733",
     "exception": false,
     "start_time": "2025-08-01T05:38:15.686927",
     "status": "completed"
    },
    "tags": []
   },
   "outputs": [],
   "source": [
    "#q4.hint()\n",
    "#q4.solution()"
   ]
  },
  {
   "cell_type": "markdown",
   "id": "d2279678",
   "metadata": {
    "papermill": {
     "duration": 0.00619,
     "end_time": "2025-08-01T05:38:15.712166",
     "exception": false,
     "start_time": "2025-08-01T05:38:15.705976",
     "status": "completed"
    },
    "tags": []
   },
   "source": [
    "# Keep Going\n",
    "\n",
    "Next up, you'll **[learn to write new functions and understand functions others write](https://www.kaggle.com/colinmorris/functions-and-getting-help)**. This will make you at least 10 times more productive as a Python programmer. "
   ]
  },
  {
   "cell_type": "markdown",
   "id": "8b76f131",
   "metadata": {
    "papermill": {
     "duration": 0.006239,
     "end_time": "2025-08-01T05:38:15.724673",
     "exception": false,
     "start_time": "2025-08-01T05:38:15.718434",
     "status": "completed"
    },
    "tags": []
   },
   "source": [
    "---\n",
    "\n",
    "\n",
    "\n",
    "\n",
    "*Have questions or comments? Visit the [course discussion forum](https://www.kaggle.com/learn/python/discussion) to chat with other learners.*"
   ]
  }
 ],
 "metadata": {
  "kaggle": {
   "accelerator": "none",
   "dataSources": [],
   "isGpuEnabled": false,
   "isInternetEnabled": false,
   "language": "python",
   "sourceType": "notebook"
  },
  "kernelspec": {
   "display_name": "Python 3",
   "language": "python",
   "name": "python3"
  },
  "language_info": {
   "codemirror_mode": {
    "name": "ipython",
    "version": 3
   },
   "file_extension": ".py",
   "mimetype": "text/x-python",
   "name": "python",
   "nbconvert_exporter": "python",
   "pygments_lexer": "ipython3",
   "version": "3.11.13"
  },
  "learntools_metadata": {
   "lesson_index": 0,
   "type": "exercise"
  },
  "papermill": {
   "default_parameters": {},
   "duration": 7.485945,
   "end_time": "2025-08-01T05:38:16.250592",
   "environment_variables": {},
   "exception": null,
   "input_path": "__notebook__.ipynb",
   "output_path": "__notebook__.ipynb",
   "parameters": {},
   "start_time": "2025-08-01T05:38:08.764647",
   "version": "2.6.0"
  }
 },
 "nbformat": 4,
 "nbformat_minor": 5
}
