{
 "cells": [
  {
   "cell_type": "markdown",
   "id": "264cd884",
   "metadata": {
    "papermill": {
     "duration": 0.00732,
     "end_time": "2025-08-01T05:46:35.748000",
     "exception": false,
     "start_time": "2025-08-01T05:46:35.740680",
     "status": "completed"
    },
    "tags": []
   },
   "source": [
    "**This notebook is an exercise in the [Python](https://www.kaggle.com/learn/python) course.  You can reference the tutorial at [this link](https://www.kaggle.com/colinmorris/functions-and-getting-help).**\n",
    "\n",
    "---\n"
   ]
  },
  {
   "cell_type": "markdown",
   "id": "fb9c6d62",
   "metadata": {
    "papermill": {
     "duration": 0.004374,
     "end_time": "2025-08-01T05:46:35.757888",
     "exception": false,
     "start_time": "2025-08-01T05:46:35.753514",
     "status": "completed"
    },
    "tags": []
   },
   "source": [
    "Functions are powerful. Try writing some yourself.\n",
    "\n",
    "As before, don't forget to run the setup code below before jumping into question 1."
   ]
  },
  {
   "cell_type": "code",
   "execution_count": 1,
   "id": "c83d6b0f",
   "metadata": {
    "_kg_hide-input": true,
    "_kg_hide-output": true,
    "execution": {
     "iopub.execute_input": "2025-08-01T05:46:35.769801Z",
     "iopub.status.busy": "2025-08-01T05:46:35.769151Z",
     "iopub.status.idle": "2025-08-01T05:46:38.170013Z",
     "shell.execute_reply": "2025-08-01T05:46:38.168516Z"
    },
    "papermill": {
     "duration": 2.409455,
     "end_time": "2025-08-01T05:46:38.172019",
     "exception": false,
     "start_time": "2025-08-01T05:46:35.762564",
     "status": "completed"
    },
    "tags": []
   },
   "outputs": [
    {
     "name": "stdout",
     "output_type": "stream",
     "text": [
      "Setup complete.\n"
     ]
    }
   ],
   "source": [
    "# SETUP. You don't need to worry for now about what this code does or how it works.\n",
    "from learntools.core import binder; binder.bind(globals())\n",
    "from learntools.python.ex2 import *\n",
    "print('Setup complete.')"
   ]
  },
  {
   "cell_type": "markdown",
   "id": "3548512b",
   "metadata": {
    "papermill": {
     "duration": 0.004111,
     "end_time": "2025-08-01T05:46:38.180165",
     "exception": false,
     "start_time": "2025-08-01T05:46:38.176054",
     "status": "completed"
    },
    "tags": []
   },
   "source": [
    "# 1.\n",
    "\n",
    "Complete the body of the following function according to its docstring.\n",
    "\n",
    "HINT: Python has a built-in function `round`."
   ]
  },
  {
   "cell_type": "code",
   "execution_count": 2,
   "id": "99a0c3a0",
   "metadata": {
    "execution": {
     "iopub.execute_input": "2025-08-01T05:46:38.190864Z",
     "iopub.status.busy": "2025-08-01T05:46:38.189433Z",
     "iopub.status.idle": "2025-08-01T05:46:38.203574Z",
     "shell.execute_reply": "2025-08-01T05:46:38.202514Z"
    },
    "papermill": {
     "duration": 0.021307,
     "end_time": "2025-08-01T05:46:38.205869",
     "exception": false,
     "start_time": "2025-08-01T05:46:38.184562",
     "status": "completed"
    },
    "tags": []
   },
   "outputs": [
    {
     "data": {
      "application/javascript": [
       "parent.postMessage({\"jupyterEvent\": \"custom.exercise_interaction\", \"data\": {\"outcomeType\": 1, \"valueTowardsCompletion\": 0.16666666666666666, \"interactionType\": 1, \"questionType\": 2, \"questionId\": \"1_RoundFunctionProblem\", \"learnToolsVersion\": \"0.3.5\", \"failureMessage\": \"\", \"exceptionClass\": \"\", \"trace\": \"\"}}, \"*\")"
      ],
      "text/plain": [
       "<IPython.core.display.Javascript object>"
      ]
     },
     "metadata": {},
     "output_type": "display_data"
    },
    {
     "data": {
      "text/markdown": [
       "<span style=\"color:#33cc33\">Correct</span>"
      ],
      "text/plain": [
       "Correct"
      ]
     },
     "metadata": {},
     "output_type": "display_data"
    }
   ],
   "source": [
    "def round_to_two_places(num):\n",
    "    \"\"\"Return the given number rounded to two decimal places. \n",
    "    \n",
    "    >>> round_to_two_places(3.14159)\n",
    "    3.14\n",
    "    \"\"\"\n",
    "    # Replace this body with your own code.\n",
    "    # (\"pass\" is a keyword that does literally nothing. We used it as a placeholder\n",
    "    # because after we begin a code block, Python requires at least one line of code)\n",
    "    pass\n",
    "    return round(num, 2)\n",
    "\n",
    "# Check your answer\n",
    "q1.check()"
   ]
  },
  {
   "cell_type": "code",
   "execution_count": 3,
   "id": "7bedbc88",
   "metadata": {
    "execution": {
     "iopub.execute_input": "2025-08-01T05:46:38.216340Z",
     "iopub.status.busy": "2025-08-01T05:46:38.216006Z",
     "iopub.status.idle": "2025-08-01T05:46:38.221609Z",
     "shell.execute_reply": "2025-08-01T05:46:38.220530Z"
    },
    "papermill": {
     "duration": 0.013005,
     "end_time": "2025-08-01T05:46:38.223536",
     "exception": false,
     "start_time": "2025-08-01T05:46:38.210531",
     "status": "completed"
    },
    "tags": []
   },
   "outputs": [],
   "source": [
    "# Uncomment the following for a hint\n",
    "#q1.hint()\n",
    "# Or uncomment the following to peek at the solution\n",
    "#q1.solution()"
   ]
  },
  {
   "cell_type": "markdown",
   "id": "c8859622",
   "metadata": {
    "papermill": {
     "duration": 0.003653,
     "end_time": "2025-08-01T05:46:38.231993",
     "exception": false,
     "start_time": "2025-08-01T05:46:38.228340",
     "status": "completed"
    },
    "tags": []
   },
   "source": [
    "# 2.\n",
    "The help for `round` says that `ndigits` (the second argument) may be negative.\n",
    "What do you think will happen when it is? Try some examples in the following cell."
   ]
  },
  {
   "cell_type": "code",
   "execution_count": 4,
   "id": "36a91339",
   "metadata": {
    "execution": {
     "iopub.execute_input": "2025-08-01T05:46:38.241330Z",
     "iopub.status.busy": "2025-08-01T05:46:38.240965Z",
     "iopub.status.idle": "2025-08-01T05:46:38.248656Z",
     "shell.execute_reply": "2025-08-01T05:46:38.247442Z"
    },
    "papermill": {
     "duration": 0.014801,
     "end_time": "2025-08-01T05:46:38.250660",
     "exception": false,
     "start_time": "2025-08-01T05:46:38.235859",
     "status": "completed"
    },
    "tags": []
   },
   "outputs": [
    {
     "name": "stdout",
     "output_type": "stream",
     "text": [
      "1230.0\n",
      "1200.0\n",
      "1000.0\n",
      "1235.0\n",
      "1234.57\n"
     ]
    }
   ],
   "source": [
    "# Put your test code here\n",
    "print(round(1234.567, -1))   # Nearest 10 → 1230\n",
    "print(round(1234.567, -2))   # Nearest 100 → 1200\n",
    "print(round(1234.567, -3))   # Nearest 1000 → 1000\n",
    "print(round(1234.567, 0))    # Nearest whole number → 1235\n",
    "print(round(1234.567, 2))    # 2 digits after decimal → 1234.57\n"
   ]
  },
  {
   "cell_type": "markdown",
   "id": "62e05e7e",
   "metadata": {
    "papermill": {
     "duration": 0.003774,
     "end_time": "2025-08-01T05:46:38.258639",
     "exception": false,
     "start_time": "2025-08-01T05:46:38.254865",
     "status": "completed"
    },
    "tags": []
   },
   "source": [
    "Can you think of a case where this would be useful?  Once you're ready, run the code cell below to see the answer and to receive credit for completing the problem."
   ]
  },
  {
   "cell_type": "code",
   "execution_count": 5,
   "id": "e618e529",
   "metadata": {
    "execution": {
     "iopub.execute_input": "2025-08-01T05:46:38.269490Z",
     "iopub.status.busy": "2025-08-01T05:46:38.268975Z",
     "iopub.status.idle": "2025-08-01T05:46:38.277088Z",
     "shell.execute_reply": "2025-08-01T05:46:38.276350Z"
    },
    "papermill": {
     "duration": 0.01599,
     "end_time": "2025-08-01T05:46:38.278675",
     "exception": false,
     "start_time": "2025-08-01T05:46:38.262685",
     "status": "completed"
    },
    "tags": []
   },
   "outputs": [
    {
     "data": {
      "application/javascript": [
       "parent.postMessage({\"jupyterEvent\": \"custom.exercise_interaction\", \"data\": {\"interactionType\": 3, \"questionType\": 4, \"questionId\": \"2_RoundNdigitsProblem\", \"learnToolsVersion\": \"0.3.5\", \"valueTowardsCompletion\": 0.0, \"failureMessage\": \"\", \"exceptionClass\": \"\", \"trace\": \"\", \"outcomeType\": 4}}, \"*\")"
      ],
      "text/plain": [
       "<IPython.core.display.Javascript object>"
      ]
     },
     "metadata": {},
     "output_type": "display_data"
    },
    {
     "data": {
      "text/markdown": [
       "<span style=\"color:#33cc99\">Solution:</span> As you've seen, `ndigits=-1` rounds to the nearest 10, `ndigits=-2` rounds to the nearest 100 and so on. Where might this be useful? Suppose we're dealing with large numbers:\n",
       "\n",
       "> The area of Finland is 338,424 km²  \n",
       "> The area of Greenland is 2,166,086 km²\n",
       "\n",
       "We probably don't care whether it's really 338,424, or 338,425, or 338,177. All those digits of accuracy are just distracting. We can chop them off by calling `round()` with `ndigits=-3`:\n",
       "\n",
       "> The area of Finland is 338,000 km²  \n",
       "> The area of Greenland is 2,166,000 km²\n",
       "\n",
       "(We'll talk about how we would get the commas later when we talk about string formatting :))\n"
      ],
      "text/plain": [
       "Solution: As you've seen, `ndigits=-1` rounds to the nearest 10, `ndigits=-2` rounds to the nearest 100 and so on. Where might this be useful? Suppose we're dealing with large numbers:\n",
       "\n",
       "> The area of Finland is 338,424 km²  \n",
       "> The area of Greenland is 2,166,086 km²\n",
       "\n",
       "We probably don't care whether it's really 338,424, or 338,425, or 338,177. All those digits of accuracy are just distracting. We can chop them off by calling `round()` with `ndigits=-3`:\n",
       "\n",
       "> The area of Finland is 338,000 km²  \n",
       "> The area of Greenland is 2,166,000 km²\n",
       "\n",
       "(We'll talk about how we would get the commas later when we talk about string formatting :))"
      ]
     },
     "metadata": {},
     "output_type": "display_data"
    }
   ],
   "source": [
    "# Check your answer (Run this code cell to receive credit!)\n",
    "q2.solution()"
   ]
  },
  {
   "cell_type": "markdown",
   "id": "f6746ca3",
   "metadata": {
    "papermill": {
     "duration": 0.004532,
     "end_time": "2025-08-01T05:46:38.287599",
     "exception": false,
     "start_time": "2025-08-01T05:46:38.283067",
     "status": "completed"
    },
    "tags": []
   },
   "source": [
    "# 3.\n",
    "\n",
    "In the previous exercise, the candy-sharing friends Alice, Bob and Carol tried to split candies evenly. For the sake of their friendship, any candies left over would be smashed. For example, if they collectively bring home 91 candies, they'll take 30 each and smash 1.\n",
    "\n",
    "Below is a simple function that will calculate the number of candies to smash for *any* number of total candies.\n",
    "\n",
    "Modify it so that it optionally takes a second argument representing the number of friends the candies are being split between. If no second argument is provided, it should assume 3 friends, as before.\n",
    "\n",
    "Update the docstring to reflect this new behaviour."
   ]
  },
  {
   "cell_type": "code",
   "execution_count": 6,
   "id": "a1e8ee74",
   "metadata": {
    "execution": {
     "iopub.execute_input": "2025-08-01T05:46:38.297858Z",
     "iopub.status.busy": "2025-08-01T05:46:38.297002Z",
     "iopub.status.idle": "2025-08-01T05:46:38.306347Z",
     "shell.execute_reply": "2025-08-01T05:46:38.305394Z"
    },
    "papermill": {
     "duration": 0.016166,
     "end_time": "2025-08-01T05:46:38.308062",
     "exception": false,
     "start_time": "2025-08-01T05:46:38.291896",
     "status": "completed"
    },
    "tags": []
   },
   "outputs": [
    {
     "data": {
      "application/javascript": [
       "parent.postMessage({\"jupyterEvent\": \"custom.exercise_interaction\", \"data\": {\"outcomeType\": 1, \"valueTowardsCompletion\": 0.16666666666666666, \"interactionType\": 1, \"questionType\": 2, \"questionId\": \"3_CandySmashingFunctionProblem\", \"learnToolsVersion\": \"0.3.5\", \"failureMessage\": \"\", \"exceptionClass\": \"\", \"trace\": \"\"}}, \"*\")"
      ],
      "text/plain": [
       "<IPython.core.display.Javascript object>"
      ]
     },
     "metadata": {},
     "output_type": "display_data"
    },
    {
     "data": {
      "text/markdown": [
       "<span style=\"color:#33cc33\">Correct</span>"
      ],
      "text/plain": [
       "Correct"
      ]
     },
     "metadata": {},
     "output_type": "display_data"
    }
   ],
   "source": [
    "def to_smash(total_candies, n_friends=3):\n",
    "    return total_candies % n_friends\n",
    "\n",
    "# Check your answer\n",
    "q3.check()"
   ]
  },
  {
   "cell_type": "code",
   "execution_count": 7,
   "id": "0d6a7b38",
   "metadata": {
    "execution": {
     "iopub.execute_input": "2025-08-01T05:46:38.319438Z",
     "iopub.status.busy": "2025-08-01T05:46:38.318975Z",
     "iopub.status.idle": "2025-08-01T05:46:38.325020Z",
     "shell.execute_reply": "2025-08-01T05:46:38.323938Z"
    },
    "papermill": {
     "duration": 0.013757,
     "end_time": "2025-08-01T05:46:38.327041",
     "exception": false,
     "start_time": "2025-08-01T05:46:38.313284",
     "status": "completed"
    },
    "tags": []
   },
   "outputs": [],
   "source": [
    "#q3.hint()"
   ]
  },
  {
   "cell_type": "code",
   "execution_count": 8,
   "id": "5dcccac5",
   "metadata": {
    "execution": {
     "iopub.execute_input": "2025-08-01T05:46:38.338088Z",
     "iopub.status.busy": "2025-08-01T05:46:38.337245Z",
     "iopub.status.idle": "2025-08-01T05:46:38.342663Z",
     "shell.execute_reply": "2025-08-01T05:46:38.341497Z"
    },
    "papermill": {
     "duration": 0.012785,
     "end_time": "2025-08-01T05:46:38.344528",
     "exception": false,
     "start_time": "2025-08-01T05:46:38.331743",
     "status": "completed"
    },
    "tags": []
   },
   "outputs": [],
   "source": [
    "#q3.solution()"
   ]
  },
  {
   "cell_type": "markdown",
   "id": "19651e0d",
   "metadata": {
    "papermill": {
     "duration": 0.00474,
     "end_time": "2025-08-01T05:46:38.353918",
     "exception": false,
     "start_time": "2025-08-01T05:46:38.349178",
     "status": "completed"
    },
    "tags": []
   },
   "source": [
    "# 4. (Optional)\n",
    "\n",
    "It may not be fun, but reading and understanding error messages will be an important part of your Python career.\n",
    "\n",
    "Each code cell below contains some commented buggy code. For each cell...\n",
    "\n",
    "1. Read the code and predict what you think will happen when it's run.\n",
    "2. Then uncomment the code and run it to see what happens. (**Tip**: In the kernel editor, you can highlight several lines and press `ctrl`+`/` to toggle commenting.)\n",
    "3. Fix the code (so that it accomplishes its intended purpose without throwing an exception)\n",
    "\n",
    "<!-- TODO: should this be autochecked? Delta is probably pretty small. -->"
   ]
  },
  {
   "cell_type": "code",
   "execution_count": 9,
   "id": "33a556b5",
   "metadata": {
    "execution": {
     "iopub.execute_input": "2025-08-01T05:46:38.366543Z",
     "iopub.status.busy": "2025-08-01T05:46:38.366093Z",
     "iopub.status.idle": "2025-08-01T05:46:38.371575Z",
     "shell.execute_reply": "2025-08-01T05:46:38.370411Z"
    },
    "papermill": {
     "duration": 0.0134,
     "end_time": "2025-08-01T05:46:38.373470",
     "exception": false,
     "start_time": "2025-08-01T05:46:38.360070",
     "status": "completed"
    },
    "tags": []
   },
   "outputs": [],
   "source": [
    "# ruound_to_two_places(9.9999)"
   ]
  },
  {
   "cell_type": "code",
   "execution_count": 10,
   "id": "da3eaaf2",
   "metadata": {
    "execution": {
     "iopub.execute_input": "2025-08-01T05:46:38.384900Z",
     "iopub.status.busy": "2025-08-01T05:46:38.384575Z",
     "iopub.status.idle": "2025-08-01T05:46:38.390454Z",
     "shell.execute_reply": "2025-08-01T05:46:38.388843Z"
    },
    "papermill": {
     "duration": 0.013446,
     "end_time": "2025-08-01T05:46:38.392225",
     "exception": false,
     "start_time": "2025-08-01T05:46:38.378779",
     "status": "completed"
    },
    "tags": []
   },
   "outputs": [],
   "source": [
    "# x = -10\n",
    "# y = 5\n",
    "# # Which of the two variables above has the smallest absolute value?\n",
    "# smallest_abs = min(abs(x, y))"
   ]
  },
  {
   "cell_type": "code",
   "execution_count": 11,
   "id": "d7a43779",
   "metadata": {
    "execution": {
     "iopub.execute_input": "2025-08-01T05:46:38.403123Z",
     "iopub.status.busy": "2025-08-01T05:46:38.402817Z",
     "iopub.status.idle": "2025-08-01T05:46:38.407549Z",
     "shell.execute_reply": "2025-08-01T05:46:38.406505Z"
    },
    "papermill": {
     "duration": 0.012407,
     "end_time": "2025-08-01T05:46:38.409562",
     "exception": false,
     "start_time": "2025-08-01T05:46:38.397155",
     "status": "completed"
    },
    "tags": []
   },
   "outputs": [],
   "source": [
    "# def f(x):\n",
    "#     y = abs(x)\n",
    "# return y\n",
    "\n",
    "# print(f(5))"
   ]
  },
  {
   "cell_type": "markdown",
   "id": "48ba54dd",
   "metadata": {
    "papermill": {
     "duration": 0.005333,
     "end_time": "2025-08-01T05:46:38.420923",
     "exception": false,
     "start_time": "2025-08-01T05:46:38.415590",
     "status": "completed"
    },
    "tags": []
   },
   "source": [
    "# Keep Going\n",
    "\n",
    "Nice job with the code. Next up, you'll learn about *conditionals*, which you'll need to **[write interesting programs](https://www.kaggle.com/colinmorris/booleans-and-conditionals)**. "
   ]
  },
  {
   "cell_type": "markdown",
   "id": "bb4af2a3",
   "metadata": {
    "papermill": {
     "duration": 0.0051,
     "end_time": "2025-08-01T05:46:38.431116",
     "exception": false,
     "start_time": "2025-08-01T05:46:38.426016",
     "status": "completed"
    },
    "tags": []
   },
   "source": [
    "---\n",
    "\n",
    "\n",
    "\n",
    "\n",
    "*Have questions or comments? Visit the [course discussion forum](https://www.kaggle.com/learn/python/discussion) to chat with other learners.*"
   ]
  }
 ],
 "metadata": {
  "kaggle": {
   "accelerator": "none",
   "dataSources": [],
   "isGpuEnabled": false,
   "isInternetEnabled": false,
   "language": "python",
   "sourceType": "notebook"
  },
  "kernelspec": {
   "display_name": "Python 3",
   "language": "python",
   "name": "python3"
  },
  "language_info": {
   "codemirror_mode": {
    "name": "ipython",
    "version": 3
   },
   "file_extension": ".py",
   "mimetype": "text/x-python",
   "name": "python",
   "nbconvert_exporter": "python",
   "pygments_lexer": "ipython3",
   "version": "3.11.13"
  },
  "learntools_metadata": {
   "lesson_index": 1,
   "type": "exercise"
  },
  "papermill": {
   "default_parameters": {},
   "duration": 8.748604,
   "end_time": "2025-08-01T05:46:39.062784",
   "environment_variables": {},
   "exception": null,
   "input_path": "__notebook__.ipynb",
   "output_path": "__notebook__.ipynb",
   "parameters": {},
   "start_time": "2025-08-01T05:46:30.314180",
   "version": "2.6.0"
  }
 },
 "nbformat": 4,
 "nbformat_minor": 5
}
