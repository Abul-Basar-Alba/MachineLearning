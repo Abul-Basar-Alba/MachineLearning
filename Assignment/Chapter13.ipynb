{
 "cells": [
  {
   "cell_type": "markdown",
   "id": "c4c7d193",
   "metadata": {},
   "source": []
  },
  {
   "cell_type": "markdown",
   "id": "ec553ffd",
   "metadata": {},
   "source": [
    "Chapter 13\n"
   ]
  },
  {
   "cell_type": "markdown",
   "id": "b5878d40",
   "metadata": {},
   "source": [
    "## Probabilistic Reasoning"
   ]
  },
  {
   "cell_type": "code",
   "execution_count": 1,
   "id": "1d6a98ef",
   "metadata": {},
   "outputs": [],
   "source": [
    "import math\n",
    "import matplotlib.pyplot as plt"
   ]
  },
  {
   "cell_type": "code",
   "execution_count": 2,
   "id": "30be7472",
   "metadata": {},
   "outputs": [],
   "source": [
    "dataset = [\n",
    "    ['Sunny', 'Hot', 'No'],\n",
    "    ['Sunny', 'Hot', 'No'],\n",
    "    ['Overcast', 'Hot', 'Yes'],\n",
    "    ['Rain', 'Mild', 'Yes'],\n",
    "    ['Rain', 'Cool', 'Yes'],\n",
    "    ['Rain', 'Cool', 'No'],\n",
    "    ['Overcast', 'Cool', 'Yes'],\n",
    "    ['Sunny', 'Mild', 'No'],\n",
    "    ['Sunny', 'Cool', 'Yes'],\n",
    "    ['Rain', 'Mild', 'Yes'],\n",
    "    ['Sunny', 'Mild', 'Yes'],\n",
    "    ['Overcast', 'Mild', 'Yes'],\n",
    "    ['Overcast', 'Hot', 'Yes'],\n",
    "    ['Rain', 'Mild', 'No']\n",
    "]"
   ]
  },
  {
   "cell_type": "code",
   "execution_count": 3,
   "id": "b015b938",
   "metadata": {},
   "outputs": [],
   "source": [
    "# Train function\n",
    "def train_naive_bayes(data):\n",
    "    label_counts = {}\n",
    "    feature_counts = {}\n",
    "\n",
    "    for row in data:\n",
    "        outlook, temp, label = row\n",
    "\n",
    "        # Count labels\n",
    "        label_counts[label] = label_counts.get(label, 0) + 1\n",
    "\n",
    "        # Count features conditional on labels\n",
    "        if label not in feature_counts:\n",
    "            feature_counts[label] = {\"Outlook\": {}, \"Temp\": {}}\n",
    "\n",
    "        feature_counts[label][\"Outlook\"][outlook] = feature_counts[label][\"Outlook\"].get(outlook, 0) + 1\n",
    "        feature_counts[label][\"Temp\"][temp] = feature_counts[label][\"Temp\"].get(temp, 0) + 1\n",
    "\n",
    "    return label_counts, feature_counts"
   ]
  },
  {
   "cell_type": "code",
   "execution_count": 4,
   "id": "4c59727e",
   "metadata": {},
   "outputs": [],
   "source": [
    "# Predict function\n",
    "def predict_naive_bayes(x, label_counts, feature_counts):\n",
    "    total = sum(label_counts.values())\n",
    "    probs = {}\n",
    "\n",
    "    for label in label_counts:\n",
    "        # Prior probability\n",
    "        probs[label] = label_counts[label] / total\n",
    "\n",
    "        # Likelihood (multiply conditional probabilities)\n",
    "        for i, feature in enumerate([\"Outlook\", \"Temp\"]):\n",
    "            value = x[i]\n",
    "            count = feature_counts[label][feature].get(value, 0)\n",
    "            probs[label] *= (count + 1) / (label_counts[label] + len(feature_counts[label][feature]))  # Laplace smoothing\n",
    "\n",
    "    return max(probs, key=probs.get)"
   ]
  },
  {
   "cell_type": "code",
   "execution_count": 5,
   "id": "8dc19946",
   "metadata": {},
   "outputs": [
    {
     "name": "stdout",
     "output_type": "stream",
     "text": [
      "Test Sample: ['Sunny', 'Hot']\n",
      "Predicted Class: No\n"
     ]
    }
   ],
   "source": [
    "\n",
    "# Train model\n",
    "label_counts, feature_counts = train_naive_bayes(dataset)\n",
    "\n",
    "# Test prediction\n",
    "test_sample = ['Sunny', 'Hot']  # Outlook=Sunny, Temp=Cool\n",
    "prediction = predict_naive_bayes(test_sample, label_counts, feature_counts)\n",
    "\n",
    "print(\"Test Sample:\", test_sample)\n",
    "print(\"Predicted Class:\", prediction)"
   ]
  },
  {
   "cell_type": "code",
   "execution_count": 6,
   "id": "7e294a79",
   "metadata": {},
   "outputs": [
    {
     "data": {
      "image/png": "[encoded data removed]",
      "text/plain": [
       "<Figure size 640x480 with 1 Axes>"
      ]
     },
     "metadata": {},
     "output_type": "display_data"
    }
   ],
   "source": [
    "# Encode categorical values into integers for plotting\n",
    "outlook_map = {\"Sunny\": 0, \"Overcast\": 1, \"Rain\": 2}\n",
    "temp_map = {\"Cool\": 0, \"Mild\": 1, \"Hot\": 2}\n",
    "\n",
    "# Prepare training points\n",
    "X = [(outlook_map[row[0]], temp_map[row[1]]) for row in dataset]\n",
    "y = [row[2] for row in dataset]\n",
    "\n",
    "# Split Yes/No for plotting\n",
    "x_yes = [X[i][0] for i in range(len(X)) if y[i] == \"Yes\"]\n",
    "y_yes = [X[i][1] for i in range(len(X)) if y[i] == \"Yes\"]\n",
    "x_no = [X[i][0] for i in range(len(X)) if y[i] == \"No\"]\n",
    "y_no = [X[i][1] for i in range(len(X)) if y[i] == \"No\"]\n",
    "\n",
    "# Plot dataset\n",
    "plt.scatter(x_yes, y_yes, color=\"green\", label=\"Play=Yes\", marker=\"o\", s=100)\n",
    "plt.scatter(x_no, y_no, color=\"red\", label=\"Play=No\", marker=\"x\", s=100)\n",
    "\n",
    "# Plot test sample\n",
    "test_x = outlook_map[test_sample[0]]\n",
    "test_y = temp_map[test_sample[1]]\n",
    "plt.scatter(test_x, test_y, color=\"blue\", marker=\"*\", s=200, label=f\"Test ({prediction})\")\n",
    "\n",
    "# Set axis ticks to original category names\n",
    "plt.xticks(list(outlook_map.values()), list(outlook_map.keys()))\n",
    "plt.yticks(list(temp_map.values()), list(temp_map.keys()))\n",
    "\n",
    "plt.xlabel(\"Outlook\")\n",
    "plt.ylabel(\"Temperature\")\n",
    "plt.title(\"Naïve Bayes Classification (Play Tennis)\")\n",
    "plt.legend()\n",
    "plt.grid(True)\n",
    "plt.show()"
   ]
  }
 ],
 "metadata": {
  "kernelspec": {
   "display_name": "3.11.9",
   "language": "python",
   "name": "python3"
  },
  "language_info": {
   "codemirror_mode": {
    "name": "ipython",
    "version": 3
   },
   "file_extension": ".py",
   "mimetype": "text/x-python",
   "name": "python",
   "nbconvert_exporter": "python",
   "pygments_lexer": "ipython3",
   "version": "3.11.9"
  }
 },
 "nbformat": 4,
 "nbformat_minor": 5
}
