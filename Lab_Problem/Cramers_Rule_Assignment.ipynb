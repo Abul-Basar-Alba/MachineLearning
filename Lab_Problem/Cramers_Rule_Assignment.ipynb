{
 "cells": [
  {
   "cell_type": "markdown",
   "id": "70aa3017",
   "metadata": {},
   "source": [
    "# Cramer's Rule "
   ]
  },
  {
   "cell_type": "markdown",
   "id": "9eca15fa",
   "metadata": {},
   "source": [
    "## Implementation (pure Python)"
   ]
  },
  {
   "cell_type": "code",
   "execution_count": 7,
   "id": "a9f908df",
   "metadata": {},
   "outputs": [
    {
     "name": "stdout",
     "output_type": "stream",
     "text": [
      "Example 1 (2x2):\n",
      "Equations: 2x + 3y = 5 ,  4x - y = 6\n",
      "A = [[2, 3], [4, -1]] b = [5, 6]\n",
      "det(A) = -14\n",
      "Solution [x, y] = [1.6428571428571428, 0.5714285714285714]\n",
      "\n",
      "Example 2 (3x3):\n",
      "Equations: x + y + z = 6 ,  2x - y + z = 3 ,  x + 2y - z = 4\n",
      "A = [[1, 1, 1], [2, -1, 1], [1, 2, -1]] b = [6, 3, 4]\n",
      "det(A) = 7.0\n",
      "Solution [x, y, z] = [1.5714285714285714, 2.2857142857142856, 2.142857142857143]\n",
      "\n"
     ]
    }
   ],
   "source": [
    "\"\"\"\n",
    "Cramer's Rule Solver (with examples)\n",
    "-----------------------------------\n",
    "Run:  python cramers_rule_solver.py\n",
    "\n",
    "This prints solutions for a 2x2 and a 3x3 system\n",
    "and provides a cramers_solve(A, b) function.\n",
    "\"\"\"\n",
    "\n",
    "from typing import Tuple, List\n",
    "\n",
    "def det(matrix: List[List[float]]) -> float:\n",
    "    \"\"\"Compute determinant via Laplace expansion (works for small n).\"\"\"\n",
    "    n = len(matrix)\n",
    "    if any(len(row) != n for row in matrix):\n",
    "        raise ValueError(\"Matrix must be square\")\n",
    "    if n == 1:\n",
    "        return matrix[0][0]\n",
    "    if n == 2:\n",
    "        return matrix[0][0]*matrix[1][1] - matrix[0][1]*matrix[1][0]\n",
    "    # Recursive (good for small n like 3x3)\n",
    "    total = 0.0\n",
    "    for col in range(n):\n",
    "        minor = [row[:col] + row[col+1:] for row in matrix[1:]]\n",
    "        cofactor = ((-1)**col) * matrix[0][col] * det(minor)\n",
    "        total += cofactor\n",
    "    return total\n",
    "\n",
    "def replace_col(A: List[List[float]], col_index: int, b: List[float]) -> List[List[float]]:\n",
    "    \"\"\"Return copy of A with column col_index replaced by vector b.\"\"\"\n",
    "    n = len(A)\n",
    "    B = [row[:] for row in A]\n",
    "    for i in range(n):\n",
    "        B[i][col_index] = b[i]\n",
    "    return B\n",
    "\n",
    "def cramers_solve(A: List[List[float]], b: List[float], tol: float = 1e-12) -> Tuple[list, float]:\n",
    "    \"\"\"Solve A x = b using Cramer's Rule (no external deps).\"\"\"\n",
    "    n = len(A)\n",
    "    if any(len(row) != n for row in A):\n",
    "        raise ValueError(\"A must be square (n x n)\")\n",
    "    if len(b) != n:\n",
    "        raise ValueError(\"b must have length n\")\n",
    "    detA = det(A)\n",
    "    if abs(detA) < tol:\n",
    "        raise ValueError(\"System has no unique solution (det(A) ≈ 0).\")\n",
    "    x = []\n",
    "    for i in range(n):\n",
    "        Ai = replace_col(A, i, b)\n",
    "        xi = det(Ai) / detA\n",
    "        x.append(xi)\n",
    "    return x, detA\n",
    "\n",
    "def main():\n",
    "    # -----------------------\n",
    "    # Example 1: 2x2 system\n",
    "    # -----------------------\n",
    "    # 2x + 3y = 5\n",
    "    # 4x -  y = 6\n",
    "    A1 = [[2, 3],\n",
    "          [4, -1]]\n",
    "    b1 = [5, 6]\n",
    "    x1, detA1 = cramers_solve(A1, b1)\n",
    "    print(\"Example 1 (2x2):\")\n",
    "    print(\"Equations: 2x + 3y = 5 ,  4x - y = 6\")\n",
    "    print(\"A =\", A1, \"b =\", b1)\n",
    "    print(\"det(A) =\", detA1)\n",
    "    print(\"Solution [x, y] =\", x1)\n",
    "    print()\n",
    "\n",
    "    # -----------------------\n",
    "    # Example 2: 3x3 system\n",
    "    # -----------------------\n",
    "    # x + y + z = 6\n",
    "    # 2x - y + z = 3\n",
    "    # x + 2y - z = 4\n",
    "    A2 = [[1,  1,  1],\n",
    "          [2, -1,  1],\n",
    "          [1,  2, -1]]\n",
    "    b2 = [6, 3, 4]\n",
    "    x2, detA2 = cramers_solve(A2, b2)\n",
    "    print(\"Example 2 (3x3):\")\n",
    "    print(\"Equations: x + y + z = 6 ,  2x - y + z = 3 ,  x + 2y - z = 4\")\n",
    "    print(\"A =\", A2, \"b =\", b2)\n",
    "    print(\"det(A) =\", detA2)\n",
    "    print(\"Solution [x, y, z] =\", x2)\n",
    "    print()\n",
    "\n",
    "if __name__ == \"__main__\":\n",
    "    main()\n"
   ]
  },
  {
   "cell_type": "markdown",
   "id": "a22101c1",
   "metadata": {},
   "source": [
    "## Example 1 — 2×2"
   ]
  },
  {
   "cell_type": "code",
   "execution_count": 8,
   "id": "82a1e33b",
   "metadata": {},
   "outputs": [
    {
     "name": "stdout",
     "output_type": "stream",
     "text": [
      "det(A) = -14\n",
      "Solution [x, y] = [1.6428571428571428, 0.5714285714285714]\n"
     ]
    }
   ],
   "source": [
    "\n",
    "A1 = [[2, 3],\n",
    "      [4, -1]]\n",
    "b1 = [5, 6]\n",
    "x1, detA1 = cramers_solve(A1, b1)\n",
    "print(\"det(A) =\", detA1)\n",
    "print(\"Solution [x, y] =\", x1)\n"
   ]
  },
  {
   "cell_type": "markdown",
   "id": "b434ec77",
   "metadata": {},
   "source": [
    "## Example 2 — 3×3"
   ]
  },
  {
   "cell_type": "code",
   "execution_count": 9,
   "id": "f37957f7",
   "metadata": {},
   "outputs": [
    {
     "name": "stdout",
     "output_type": "stream",
     "text": [
      "det(A) = 7.0\n",
      "Solution [x, y, z] = [1.5714285714285714, 2.2857142857142856, 2.142857142857143]\n"
     ]
    }
   ],
   "source": [
    "A2 = [[1, 1, 1],\n",
    "      [2, -1, 1],\n",
    "      [1, 2, -1]]\n",
    "b2 = [6, 3, 4]\n",
    "\n",
    "x2, detA2 = cramers_solve(A2, b2)\n",
    "print(\"det(A) =\", detA2)\n",
    "print(\"Solution [x, y, z] =\", x2)\n"
   ]
  }
 ],
 "metadata": {
  "kernelspec": {
   "display_name": "3.11.9",
   "language": "python",
   "name": "python3"
  },
  "language_info": {
   "codemirror_mode": {
    "name": "ipython",
    "version": 3
   },
   "file_extension": ".py",
   "mimetype": "text/x-python",
   "name": "python",
   "nbconvert_exporter": "python",
   "pygments_lexer": "ipython3",
   "version": "3.11.9"
  }
 },
 "nbformat": 4,
 "nbformat_minor": 5
}
