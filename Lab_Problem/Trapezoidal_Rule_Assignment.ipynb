{
 "cells": [
  {
   "cell_type": "markdown",
   "id": "85b395c9",
   "metadata": {},
   "source": [
    "# Trapezoidal Rule Assignment"
   ]
  },
  {
   "cell_type": "markdown",
   "id": "c1ccf53b",
   "metadata": {},
   "source": [
    "\n",
    "## 📘 What is the Trapezoidal Rule?\n",
    "\n",
    "The **Trapezoidal Rule** is a numerical method for approximating the value of a definite integral:\n",
    "\n",
    "I=∫​f(x)dx //lim a to b\n",
    "\n",
    "It works by dividing the interval h=b−a/n into **n subintervals** and approximating the area under the curve using trapezoids.\n",
    "\n",
    "### Formula:\n",
    "\n",
    "I≈h/2[f(x0)+2f(x1)+2f(x2)+⋯+2f(xn−1)+f(xn)]\n",
    "\n"
   ]
  },
  {
   "cell_type": "markdown",
   "id": "664c115f",
   "metadata": {},
   "source": [
    "\n",
    "## 📊 Example Problem\n",
    "\n",
    "Approximate the integral:\n",
    "\n",
    "∫e^xdx  //lim 0 to 1\n",
    "\n",
    "We know the exact value is:\n",
    "\n",
    "∫e^xdx=e−1≈1.71828 //lim 0 to 1\n",
    "We will use the Trapezoidal Rule with n=4:\n",
    "\n",
    "Interval:[0,1]\n",
    "Step size: ℎ=1−0/4 =0.25"
   ]
  },
  {
   "cell_type": "code",
   "execution_count": 4,
   "id": "c7623e59",
   "metadata": {},
   "outputs": [
    {
     "name": "stdout",
     "output_type": "stream",
     "text": [
      "Trapezoidal Rule Approximation (n=4): 1.7272219045575166\n",
      "Exact Value: 1.718281828459045\n",
      "Error: 0.008940076098471472\n"
     ]
    }
   ],
   "source": [
    "import numpy as np\n",
    "\n",
    "# Function to integrate\n",
    "def f(x):\n",
    "    return np.exp(x)\n",
    "\n",
    "# Trapezoidal Rule function\n",
    "def trapezoidal_rule(f, a, b, n):\n",
    "    h = (b - a) / n\n",
    "    x = np.linspace(a, b, n+1)\n",
    "    y = f(x)\n",
    "    \n",
    "    result = (h/2) * (y[0] + 2*sum(y[1:-1]) + y[-1])\n",
    "    return result\n",
    "\n",
    "# Example: integrate e^x from 0 to 1\n",
    "a, b = 0, 1\n",
    "n = 4\n",
    "approx = trapezoidal_rule(f, a, b, n)\n",
    "exact = np.e - 1\n",
    "\n",
    "print(f\"Trapezoidal Rule Approximation (n={n}): {approx}\")\n",
    "print(f\"Exact Value: {exact}\")\n",
    "print(f\"Error: {abs(exact - approx)}\")\n"
   ]
  }
 ],
 "metadata": {
  "kernelspec": {
   "display_name": "3.11.9",
   "language": "python",
   "name": "python3"
  },
  "language_info": {
   "codemirror_mode": {
    "name": "ipython",
    "version": 3
   },
   "file_extension": ".py",
   "mimetype": "text/x-python",
   "name": "python",
   "nbconvert_exporter": "python",
   "pygments_lexer": "ipython3",
   "version": "3.11.9"
  }
 },
 "nbformat": 4,
 "nbformat_minor": 5
}
