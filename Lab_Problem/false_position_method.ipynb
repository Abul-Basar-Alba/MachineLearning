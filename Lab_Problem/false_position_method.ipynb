{
 "cells": [
  {
   "cell_type": "markdown",
   "id": "928ba09b",
   "metadata": {},
   "source": [
    "\n",
    "# False Position Method (Regula Falsi)\n",
    "\n",
    "The **False Position Method** (or **Regula Falsi Method**) is a numerical technique for solving equations of the form:\n",
    "\n",
    "\\[ f(x) = 0 \\]\n",
    "\n",
    "It is similar to the **Bisection Method**, but instead of using the midpoint, it uses a weighted average based on the values of the function at the endpoints. This often leads to faster convergence.\n"
   ]
  },
  {
   "cell_type": "markdown",
   "id": "dd50ac1f",
   "metadata": {},
   "source": [
    "\n",
    "## Steps of False Position Method:\n",
    "\n",
    "1. Choose two initial points `a` and `b` such that \\( f(a) \\) and \\( f(b) \\) have opposite signs (i.e., the root lies between them).\n",
    "2. Compute the point of intersection (false position):\n",
    "   \\[ c = \\frac{a f(b) - b f(a)}{f(b) - f(a)} \\]\n",
    "3. Evaluate \\( f(c) \\):\n",
    "   - If \\( f(c) = 0 \\), then `c` is the root.\n",
    "   - If \\( f(a) f(c) < 0 \\), then the root lies in `[a, c]`.\n",
    "   - Else, the root lies in `[c, b]`.\n",
    "4. Repeat until the desired accuracy is achieved.\n"
   ]
  },
  {
   "cell_type": "markdown",
   "id": "fe1cd025",
   "metadata": {},
   "source": [
    "\n",
    "## Example Problem\n",
    "\n",
    "Solve the equation:\n",
    "\n",
    "\\[ f(x) = x^3 - x - 2 = 0 \\]\n",
    "\n",
    "We know the root lies between \\( x = 1 \\) and \\( x = 2 \\), because:\n",
    "\n",
    "- \\( f(1) = -2 < 0 \\)\n",
    "- \\( f(2) = 4 > 0 \\)\n"
   ]
  },
  {
   "cell_type": "code",
   "execution_count": 1,
   "id": "064875a3",
   "metadata": {},
   "outputs": [
    {
     "name": "stdout",
     "output_type": "stream",
     "text": [
      "Iteration 1: a=1.000000, b=2.000000, c=1.333333, f(c)=-0.962963\n",
      "Iteration 2: a=1.333333, b=2.000000, c=1.462687, f(c)=-0.333339\n",
      "Iteration 3: a=1.462687, b=2.000000, c=1.504019, f(c)=-0.101818\n",
      "Iteration 4: a=1.504019, b=2.000000, c=1.516331, f(c)=-0.029895\n",
      "Iteration 5: a=1.516331, b=2.000000, c=1.519919, f(c)=-0.008675\n",
      "Iteration 6: a=1.519919, b=2.000000, c=1.520957, f(c)=-0.002509\n",
      "Iteration 7: a=1.520957, b=2.000000, c=1.521258, f(c)=-0.000725\n",
      "Iteration 8: a=1.521258, b=2.000000, c=1.521344, f(c)=-0.000209\n",
      "Iteration 9: a=1.521344, b=2.000000, c=1.521370, f(c)=-0.000060\n",
      "Iteration 10: a=1.521370, b=2.000000, c=1.521377, f(c)=-0.000017\n",
      "Iteration 11: a=1.521377, b=2.000000, c=1.521379, f(c)=-0.000005\n",
      "Iteration 12: a=1.521379, b=2.000000, c=1.521379, f(c)=-0.000001\n",
      "Iteration 13: a=1.521379, b=2.000000, c=1.521380, f(c)=-0.000000\n",
      "Root found at x = 1.521380\n"
     ]
    },
    {
     "data": {
      "text/plain": [
       "1.521379636045493"
      ]
     },
     "execution_count": 1,
     "metadata": {},
     "output_type": "execute_result"
    }
   ],
   "source": [
    "\n",
    "def f(x):\n",
    "    return x**3 - x - 2\n",
    "\n",
    "def false_position(a, b, tol=1e-6, max_iter=100):\n",
    "    if f(a) * f(b) >= 0:\n",
    "        print(\"Invalid initial guesses. f(a) and f(b) must have opposite signs.\")\n",
    "        return None\n",
    "\n",
    "    for i in range(max_iter):\n",
    "        c = (a * f(b) - b * f(a)) / (f(b) - f(a))\n",
    "        print(f\"Iteration {i+1}: a={a:.6f}, b={b:.6f}, c={c:.6f}, f(c)={f(c):.6f}\")\n",
    "\n",
    "        if abs(f(c)) < tol:\n",
    "            print(f\"Root found at x = {c:.6f}\")\n",
    "            return c\n",
    "\n",
    "        if f(a) * f(c) < 0:\n",
    "            b = c\n",
    "        else:\n",
    "            a = c\n",
    "    print(\"Max iterations reached.\")\n",
    "    return c\n",
    "\n",
    "# Example Run\n",
    "false_position(1, 2)\n"
   ]
  }
 ],
 "metadata": {
  "kernelspec": {
   "display_name": "3.11.9",
   "language": "python",
   "name": "python3"
  },
  "language_info": {
   "codemirror_mode": {
    "name": "ipython",
    "version": 3
   },
   "file_extension": ".py",
   "mimetype": "text/x-python",
   "name": "python",
   "nbconvert_exporter": "python",
   "pygments_lexer": "ipython3",
   "version": "3.11.9"
  }
 },
 "nbformat": 4,
 "nbformat_minor": 5
}
